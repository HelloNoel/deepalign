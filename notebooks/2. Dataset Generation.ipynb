{
 "cells": [
  {
   "cell_type": "code",
   "execution_count": 1,
   "metadata": {},
   "outputs": [],
   "source": [
    "from tqdm.notebook import tqdm\n",
    "\n",
    "from deepalign import fs\n",
    "from deepalign.fs import get_process_model_files\n",
    "from deepalign.generation.anomaly import *\n",
    "from deepalign.generation.utils import generate_for_process_model\n",
    "from deepalign.utils import download_pretrained_models"
   ]
  },
  {
   "cell_type": "markdown",
   "metadata": {},
   "source": [
    "# The Datasets Used in the Evaluation Section"
   ]
  },
  {
   "cell_type": "markdown",
   "metadata": {},
   "source": [
    "To start quickly, you can download all model and dataset files directly from the GitHub Release."
   ]
  },
  {
   "cell_type": "code",
   "execution_count": 2,
   "metadata": {},
   "outputs": [
    {
     "data": {
      "text/plain": [
       "'Download finished, check your `.out` folder.'"
      ]
     },
     "execution_count": 2,
     "metadata": {},
     "output_type": "execute_result"
    }
   ],
   "source": [
    "download_pretrained_models()"
   ]
  },
  {
   "cell_type": "markdown",
   "metadata": {},
   "source": [
    "However, below code was used to generate the datasets used in the evaluation of the paper."
   ]
  },
  {
   "cell_type": "markdown",
   "metadata": {},
   "source": [
    "Define the anomalies."
   ]
  },
  {
   "cell_type": "code",
   "execution_count": 7,
   "metadata": {},
   "outputs": [],
   "source": [
    "anomalies = [\n",
    "    SkipSequenceAnomaly(max_sequence_size=2),\n",
    "    ReworkAnomaly(max_distance=5, max_sequence_size=3),\n",
    "    EarlyAnomaly(max_distance=5, max_sequence_size=2),\n",
    "    LateAnomaly(max_distance=5, max_sequence_size=2),\n",
    "    InsertAnomaly(max_inserts=2),\n",
    "    AttributeAnomaly(max_events=3, max_attributes=2)\n",
    "]"
   ]
  },
  {
   "cell_type": "markdown",
   "metadata": {},
   "source": [
    "Now, we can generate the datasets used in the paper. Using these parameters and `seed=1337` will produce the same datasets."
   ]
  },
  {
   "cell_type": "code",
   "execution_count": null,
   "metadata": {
    "scrolled": false
   },
   "outputs": [],
   "source": [
    "process_models = [m for m in get_process_model_files() if 'paper' not in m]  # Ignore the paper process model\n",
    "for process_model in tqdm(process_models, desc='Generate'):\n",
    "    generate_for_process_model(process_model, size=5000, anomalies=anomalies, \n",
    "                               num_attr=[1, 2, 3, 4], seed=1337, show_progress='tqdm_notebook')"
   ]
  }
 ],
 "metadata": {
  "kernelspec": {
   "display_name": "Python 3",
   "language": "python",
   "name": "python3"
  },
  "language_info": {
   "codemirror_mode": {
    "name": "ipython",
    "version": 3
   },
   "file_extension": ".py",
   "mimetype": "text/x-python",
   "name": "python",
   "nbconvert_exporter": "python",
   "pygments_lexer": "ipython3",
   "version": "3.6.9"
  }
 },
 "nbformat": 4,
 "nbformat_minor": 2
}
