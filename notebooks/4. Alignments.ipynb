{
 "cells": [
  {
   "cell_type": "code",
   "execution_count": 1,
   "metadata": {},
   "outputs": [],
   "source": [
    "import numpy as np\n",
    "import pandas as pd\n",
    "\n",
    "from deepalign import Dataset\n",
    "from deepalign import fs\n",
    "from deepalign.alignments import ALIGNERS\n",
    "\n",
    "from IPython.display import display\n",
    "pd.set_option('display.max_columns', 999)\n",
    "pd.set_option('display.max_rows', 999)"
   ]
  },
  {
   "cell_type": "markdown",
   "metadata": {},
   "source": [
    "## Setup"
   ]
  },
  {
   "cell_type": "markdown",
   "metadata": {},
   "source": [
    "Let us first define a `get_model` helper method that retrieves an `Aligner` model from disk and the corresponding `Dataset` instance."
   ]
  },
  {
   "cell_type": "code",
   "execution_count": 2,
   "metadata": {},
   "outputs": [],
   "source": [
    "def get_model(aligner, dataset_name, case_attributes=False, event_attributes=False):\n",
    "    ea = ca = 0\n",
    "    \n",
    "    if aligner == 'confnet':\n",
    "        ea = int(event_attributes)\n",
    "        ca = int(case_attributes)\n",
    "        model_name = f'{dataset_name}_{aligner}{ea}{ca}'\n",
    "    else:\n",
    "        model_name = f'{dataset_name}_{aligner}'\n",
    "\n",
    "    dataset = Dataset(dataset_name, use_case_attributes=ca, use_event_attributes=ea)\n",
    "    models = list(set([f.name.replace('_forward', '').replace('_backward', '') \n",
    "                      for f in fs.get_model_files()\n",
    "                      if model_name in f.name]))\n",
    "    \n",
    "    if aligner == 'confnet':\n",
    "        aligner = ALIGNERS[aligner](dataset, use_case_attributes=ca, use_event_attributes=ea)\n",
    "    else:\n",
    "        aligner = ALIGNERS[aligner]()\n",
    "    aligner.load(str(fs.MODEL_DIR / models[0]))\n",
    "                \n",
    "    return aligner, dataset"
   ]
  },
  {
   "cell_type": "markdown",
   "metadata": {},
   "source": [
    "## Computing alignments with DeepAlign"
   ]
  },
  {
   "cell_type": "markdown",
   "metadata": {},
   "source": [
    "We will use the `paper-0.3-3` event log as our main example here."
   ]
  },
  {
   "cell_type": "code",
   "execution_count": 3,
   "metadata": {},
   "outputs": [],
   "source": [
    "dataset_name = 'paper-0.3-3'"
   ]
  },
  {
   "cell_type": "markdown",
   "metadata": {},
   "source": [
    "The possible aligner key strings are: `confnet` (DeepAlign), `optimal` (Reference Model), `hm` (Heuristics Miner), and `im` (Inductive Miner)."
   ]
  },
  {
   "cell_type": "code",
   "execution_count": 4,
   "metadata": {},
   "outputs": [
    {
     "data": {
      "text/plain": [
       "dict_keys(['alpha', 'alphaplus', 'confnet', 'dfg', 'hm', 'im', 'optimal', 'sm'])"
      ]
     },
     "execution_count": 4,
     "metadata": {},
     "output_type": "execute_result"
    }
   ],
   "source": [
    "ALIGNERS.keys()"
   ]
  },
  {
   "cell_type": "markdown",
   "metadata": {},
   "source": [
    "Let us load a ConfNet first."
   ]
  },
  {
   "cell_type": "code",
   "execution_count": 5,
   "metadata": {},
   "outputs": [],
   "source": [
    "confnet, dataset = get_model('confnet', dataset_name, True, True)"
   ]
  },
  {
   "cell_type": "markdown",
   "metadata": {},
   "source": [
    "Now, we can run the DeepAlign algorithm with `confnet.align`. We can control the number of beams with the parameter `k`, the maximum number of steps with `steps`, the maximum deletion size for one step with `delete_max`, and a hot start mode with `hot_start`. The hot start will use the BINet anomaly detection method to automatically finish all beams where no anomaly was found."
   ]
  },
  {
   "cell_type": "code",
   "execution_count": 6,
   "metadata": {},
   "outputs": [
    {
     "name": "stdout",
     "output_type": "stream",
     "text": [
      "Step 1 → 5.525381803512573s (25000, 28) finished=3768\n",
      "Step 2 ← 2.2669196128845215s (25000, 28) finished=3768\n",
      "Step 3 → 2.2092976570129395s (25000, 28) finished=3888\n",
      "Step 4 ← 1.9833369255065918s (25000, 28) finished=4336\n",
      "Step 5 → 1.2932274341583252s (25000, 28) finished=4830\n",
      "Step 6 ← 0.3943462371826172s (25000, 28) finished=4864\n",
      "Step 7 → 0.33541369438171387s (25000, 28) finished=4871\n",
      "Step 8 ← 0.31231045722961426s (25000, 28) finished=4897\n",
      "Step 9 → 0.26900696754455566s (25000, 28) finished=4911\n",
      "Step 10 ← 0.24869203567504883s (25000, 28) finished=4912\n"
     ]
    }
   ],
   "source": [
    "alignments, corrected_cases, costs = confnet.align(dataset, k=5, steps=10, delete_max=3, hot_start=True)"
   ]
  },
  {
   "cell_type": "markdown",
   "metadata": {},
   "source": [
    "Okay, done. Now let us take a look at the found alignments. Fist, we define a display method for alignments."
   ]
  },
  {
   "cell_type": "code",
   "execution_count": 7,
   "metadata": {},
   "outputs": [],
   "source": [
    "def display_alignment(alignment, decode=None):\n",
    "    a = alignment[alignment != -1]\n",
    "    a = a.reshape(2, a.shape[0] // 2)\n",
    "    if decode is not None:\n",
    "        a = decode(a)\n",
    "    df = pd.DataFrame(a, index=['Log', 'Model'])\n",
    "    df = df.style.hide_index()\n",
    "    return display(df)"
   ]
  },
  {
   "cell_type": "markdown",
   "metadata": {},
   "source": [
    "We will need a decode method for the integer encoded event sequences of the `Dataset`. We can create a `decode` method from the `sklearn.preprocessing.LabelEncoder` instances saved in `dataset.encoders`."
   ]
  },
  {
   "cell_type": "code",
   "execution_count": 8,
   "metadata": {},
   "outputs": [],
   "source": [
    "decode = dict((k, v) for k, v in enumerate(dataset.encoders['name'].classes_))\n",
    "decode[-1] = decode[0]  # Padding\n",
    "decode[0] = '»'\n",
    "decode = np.vectorize(decode.get)"
   ]
  },
  {
   "cell_type": "markdown",
   "metadata": {},
   "source": [
    "Now, we can display alignments from the `alignments` object. `alignments` is a NumPy array with shape `(num_cases, k, 2, max_sequence_len)`."
   ]
  },
  {
   "cell_type": "code",
   "execution_count": 9,
   "metadata": {},
   "outputs": [
    {
     "data": {
      "text/plain": [
       "(5000, 5, 2, 28)"
      ]
     },
     "execution_count": 9,
     "metadata": {},
     "output_type": "execute_result"
    }
   ],
   "source": [
    "alignments.shape"
   ]
  },
  {
   "cell_type": "markdown",
   "metadata": {},
   "source": [
    "To display the top-1 alignment for the first case we can use the following."
   ]
  },
  {
   "cell_type": "code",
   "execution_count": 10,
   "metadata": {},
   "outputs": [
    {
     "data": {
      "text/html": [
       "<style  type=\"text/css\" >\n",
       "</style><table id=\"T_9e4ac4f4_6c91_11ea_9a64_5118a6b423c8\" ><thead>    <tr>        <th class=\"col_heading level0 col0\" >0</th>        <th class=\"col_heading level0 col1\" >1</th>        <th class=\"col_heading level0 col2\" >2</th>        <th class=\"col_heading level0 col3\" >3</th>        <th class=\"col_heading level0 col4\" >4</th>        <th class=\"col_heading level0 col5\" >5</th>        <th class=\"col_heading level0 col6\" >6</th>        <th class=\"col_heading level0 col7\" >7</th>        <th class=\"col_heading level0 col8\" >8</th>        <th class=\"col_heading level0 col9\" >9</th>        <th class=\"col_heading level0 col10\" >10</th>        <th class=\"col_heading level0 col11\" >11</th>        <th class=\"col_heading level0 col12\" >12</th>        <th class=\"col_heading level0 col13\" >13</th>    </tr></thead><tbody>\n",
       "                <tr>\n",
       "                                <td id=\"T_9e4ac4f4_6c91_11ea_9a64_5118a6b423c8row0_col0\" class=\"data row0 col0\" >▶</td>\n",
       "                        <td id=\"T_9e4ac4f4_6c91_11ea_9a64_5118a6b423c8row0_col1\" class=\"data row0 col1\" >Identify Problem</td>\n",
       "                        <td id=\"T_9e4ac4f4_6c91_11ea_9a64_5118a6b423c8row0_col2\" class=\"data row0 col2\" >Research Related Work</td>\n",
       "                        <td id=\"T_9e4ac4f4_6c91_11ea_9a64_5118a6b423c8row0_col3\" class=\"data row0 col3\" >Develop Method</td>\n",
       "                        <td id=\"T_9e4ac4f4_6c91_11ea_9a64_5118a6b423c8row0_col4\" class=\"data row0 col4\" >Experiment</td>\n",
       "                        <td id=\"T_9e4ac4f4_6c91_11ea_9a64_5118a6b423c8row0_col5\" class=\"data row0 col5\" >Evaluate</td>\n",
       "                        <td id=\"T_9e4ac4f4_6c91_11ea_9a64_5118a6b423c8row0_col6\" class=\"data row0 col6\" >Conclude</td>\n",
       "                        <td id=\"T_9e4ac4f4_6c91_11ea_9a64_5118a6b423c8row0_col7\" class=\"data row0 col7\" >Submit</td>\n",
       "                        <td id=\"T_9e4ac4f4_6c91_11ea_9a64_5118a6b423c8row0_col8\" class=\"data row0 col8\" >Review</td>\n",
       "                        <td id=\"T_9e4ac4f4_6c91_11ea_9a64_5118a6b423c8row0_col9\" class=\"data row0 col9\" >Minor Revision</td>\n",
       "                        <td id=\"T_9e4ac4f4_6c91_11ea_9a64_5118a6b423c8row0_col10\" class=\"data row0 col10\" >Revise</td>\n",
       "                        <td id=\"T_9e4ac4f4_6c91_11ea_9a64_5118a6b423c8row0_col11\" class=\"data row0 col11\" >Submit</td>\n",
       "                        <td id=\"T_9e4ac4f4_6c91_11ea_9a64_5118a6b423c8row0_col12\" class=\"data row0 col12\" >Final Decision</td>\n",
       "                        <td id=\"T_9e4ac4f4_6c91_11ea_9a64_5118a6b423c8row0_col13\" class=\"data row0 col13\" >■</td>\n",
       "            </tr>\n",
       "            <tr>\n",
       "                                <td id=\"T_9e4ac4f4_6c91_11ea_9a64_5118a6b423c8row1_col0\" class=\"data row1 col0\" >▶</td>\n",
       "                        <td id=\"T_9e4ac4f4_6c91_11ea_9a64_5118a6b423c8row1_col1\" class=\"data row1 col1\" >Identify Problem</td>\n",
       "                        <td id=\"T_9e4ac4f4_6c91_11ea_9a64_5118a6b423c8row1_col2\" class=\"data row1 col2\" >Research Related Work</td>\n",
       "                        <td id=\"T_9e4ac4f4_6c91_11ea_9a64_5118a6b423c8row1_col3\" class=\"data row1 col3\" >Develop Method</td>\n",
       "                        <td id=\"T_9e4ac4f4_6c91_11ea_9a64_5118a6b423c8row1_col4\" class=\"data row1 col4\" >Experiment</td>\n",
       "                        <td id=\"T_9e4ac4f4_6c91_11ea_9a64_5118a6b423c8row1_col5\" class=\"data row1 col5\" >Evaluate</td>\n",
       "                        <td id=\"T_9e4ac4f4_6c91_11ea_9a64_5118a6b423c8row1_col6\" class=\"data row1 col6\" >Conclude</td>\n",
       "                        <td id=\"T_9e4ac4f4_6c91_11ea_9a64_5118a6b423c8row1_col7\" class=\"data row1 col7\" >Submit</td>\n",
       "                        <td id=\"T_9e4ac4f4_6c91_11ea_9a64_5118a6b423c8row1_col8\" class=\"data row1 col8\" >Review</td>\n",
       "                        <td id=\"T_9e4ac4f4_6c91_11ea_9a64_5118a6b423c8row1_col9\" class=\"data row1 col9\" >Minor Revision</td>\n",
       "                        <td id=\"T_9e4ac4f4_6c91_11ea_9a64_5118a6b423c8row1_col10\" class=\"data row1 col10\" >Revise</td>\n",
       "                        <td id=\"T_9e4ac4f4_6c91_11ea_9a64_5118a6b423c8row1_col11\" class=\"data row1 col11\" >Submit</td>\n",
       "                        <td id=\"T_9e4ac4f4_6c91_11ea_9a64_5118a6b423c8row1_col12\" class=\"data row1 col12\" >Final Decision</td>\n",
       "                        <td id=\"T_9e4ac4f4_6c91_11ea_9a64_5118a6b423c8row1_col13\" class=\"data row1 col13\" >■</td>\n",
       "            </tr>\n",
       "    </tbody></table>"
      ],
      "text/plain": [
       "<pandas.io.formats.style.Styler at 0x7fa158b02eb8>"
      ]
     },
     "metadata": {},
     "output_type": "display_data"
    }
   ],
   "source": [
    "display_alignment(alignments[0][0], decode=decode)"
   ]
  },
  {
   "cell_type": "markdown",
   "metadata": {},
   "source": [
    "Seems like this was not an anomalous case. Let us check."
   ]
  },
  {
   "cell_type": "code",
   "execution_count": 11,
   "metadata": {},
   "outputs": [
    {
     "data": {
      "text/plain": [
       "'Normal'"
      ]
     },
     "execution_count": 11,
     "metadata": {},
     "output_type": "execute_result"
    }
   ],
   "source": [
    "dataset.text_labels[0]"
   ]
  },
  {
   "cell_type": "markdown",
   "metadata": {},
   "source": [
    "Remember, the different anomaly types are as follows."
   ]
  },
  {
   "cell_type": "code",
   "execution_count": 12,
   "metadata": {},
   "outputs": [
    {
     "data": {
      "text/plain": [
       "{'Attribute', 'Early', 'Insert', 'Late', 'Normal', 'Rework', 'SkipSequence'}"
      ]
     },
     "execution_count": 12,
     "metadata": {},
     "output_type": "execute_result"
    }
   ],
   "source": [
    "set(dataset.text_labels)"
   ]
  },
  {
   "cell_type": "markdown",
   "metadata": {},
   "source": [
    "Let us take a look at a *Skip* anomaly. This is also the example given in the Evaluation section of the paper."
   ]
  },
  {
   "cell_type": "code",
   "execution_count": 13,
   "metadata": {},
   "outputs": [
    {
     "data": {
      "text/html": [
       "<style  type=\"text/css\" >\n",
       "</style><table id=\"T_a2047a40_6c91_11ea_9a64_5118a6b423c8\" ><thead>    <tr>        <th class=\"col_heading level0 col0\" >0</th>        <th class=\"col_heading level0 col1\" >1</th>        <th class=\"col_heading level0 col2\" >2</th>        <th class=\"col_heading level0 col3\" >3</th>        <th class=\"col_heading level0 col4\" >4</th>        <th class=\"col_heading level0 col5\" >5</th>        <th class=\"col_heading level0 col6\" >6</th>        <th class=\"col_heading level0 col7\" >7</th>        <th class=\"col_heading level0 col8\" >8</th>        <th class=\"col_heading level0 col9\" >9</th>        <th class=\"col_heading level0 col10\" >10</th>        <th class=\"col_heading level0 col11\" >11</th>        <th class=\"col_heading level0 col12\" >12</th>        <th class=\"col_heading level0 col13\" >13</th>    </tr></thead><tbody>\n",
       "                <tr>\n",
       "                                <td id=\"T_a2047a40_6c91_11ea_9a64_5118a6b423c8row0_col0\" class=\"data row0 col0\" >▶</td>\n",
       "                        <td id=\"T_a2047a40_6c91_11ea_9a64_5118a6b423c8row0_col1\" class=\"data row0 col1\" >Identify Problem</td>\n",
       "                        <td id=\"T_a2047a40_6c91_11ea_9a64_5118a6b423c8row0_col2\" class=\"data row0 col2\" >»</td>\n",
       "                        <td id=\"T_a2047a40_6c91_11ea_9a64_5118a6b423c8row0_col3\" class=\"data row0 col3\" >»</td>\n",
       "                        <td id=\"T_a2047a40_6c91_11ea_9a64_5118a6b423c8row0_col4\" class=\"data row0 col4\" >Experiment</td>\n",
       "                        <td id=\"T_a2047a40_6c91_11ea_9a64_5118a6b423c8row0_col5\" class=\"data row0 col5\" >Evaluate</td>\n",
       "                        <td id=\"T_a2047a40_6c91_11ea_9a64_5118a6b423c8row0_col6\" class=\"data row0 col6\" >Conclude</td>\n",
       "                        <td id=\"T_a2047a40_6c91_11ea_9a64_5118a6b423c8row0_col7\" class=\"data row0 col7\" >Submit</td>\n",
       "                        <td id=\"T_a2047a40_6c91_11ea_9a64_5118a6b423c8row0_col8\" class=\"data row0 col8\" >Review</td>\n",
       "                        <td id=\"T_a2047a40_6c91_11ea_9a64_5118a6b423c8row0_col9\" class=\"data row0 col9\" >Minor Revision</td>\n",
       "                        <td id=\"T_a2047a40_6c91_11ea_9a64_5118a6b423c8row0_col10\" class=\"data row0 col10\" >Revise</td>\n",
       "                        <td id=\"T_a2047a40_6c91_11ea_9a64_5118a6b423c8row0_col11\" class=\"data row0 col11\" >Submit</td>\n",
       "                        <td id=\"T_a2047a40_6c91_11ea_9a64_5118a6b423c8row0_col12\" class=\"data row0 col12\" >Final Decision</td>\n",
       "                        <td id=\"T_a2047a40_6c91_11ea_9a64_5118a6b423c8row0_col13\" class=\"data row0 col13\" >■</td>\n",
       "            </tr>\n",
       "            <tr>\n",
       "                                <td id=\"T_a2047a40_6c91_11ea_9a64_5118a6b423c8row1_col0\" class=\"data row1 col0\" >▶</td>\n",
       "                        <td id=\"T_a2047a40_6c91_11ea_9a64_5118a6b423c8row1_col1\" class=\"data row1 col1\" >Identify Problem</td>\n",
       "                        <td id=\"T_a2047a40_6c91_11ea_9a64_5118a6b423c8row1_col2\" class=\"data row1 col2\" >Research Related Work</td>\n",
       "                        <td id=\"T_a2047a40_6c91_11ea_9a64_5118a6b423c8row1_col3\" class=\"data row1 col3\" >Develop Method</td>\n",
       "                        <td id=\"T_a2047a40_6c91_11ea_9a64_5118a6b423c8row1_col4\" class=\"data row1 col4\" >Experiment</td>\n",
       "                        <td id=\"T_a2047a40_6c91_11ea_9a64_5118a6b423c8row1_col5\" class=\"data row1 col5\" >Evaluate</td>\n",
       "                        <td id=\"T_a2047a40_6c91_11ea_9a64_5118a6b423c8row1_col6\" class=\"data row1 col6\" >Conclude</td>\n",
       "                        <td id=\"T_a2047a40_6c91_11ea_9a64_5118a6b423c8row1_col7\" class=\"data row1 col7\" >Submit</td>\n",
       "                        <td id=\"T_a2047a40_6c91_11ea_9a64_5118a6b423c8row1_col8\" class=\"data row1 col8\" >Review</td>\n",
       "                        <td id=\"T_a2047a40_6c91_11ea_9a64_5118a6b423c8row1_col9\" class=\"data row1 col9\" >Minor Revision</td>\n",
       "                        <td id=\"T_a2047a40_6c91_11ea_9a64_5118a6b423c8row1_col10\" class=\"data row1 col10\" >Revise</td>\n",
       "                        <td id=\"T_a2047a40_6c91_11ea_9a64_5118a6b423c8row1_col11\" class=\"data row1 col11\" >Submit</td>\n",
       "                        <td id=\"T_a2047a40_6c91_11ea_9a64_5118a6b423c8row1_col12\" class=\"data row1 col12\" >Final Decision</td>\n",
       "                        <td id=\"T_a2047a40_6c91_11ea_9a64_5118a6b423c8row1_col13\" class=\"data row1 col13\" >■</td>\n",
       "            </tr>\n",
       "    </tbody></table>"
      ],
      "text/plain": [
       "<pandas.io.formats.style.Styler at 0x7fa148788dd8>"
      ]
     },
     "metadata": {},
     "output_type": "display_data"
    }
   ],
   "source": [
    "skip_anomalies = np.where(dataset.text_labels == 'SkipSequence')[0]\n",
    "display_alignment(alignments[skip_anomalies[0]][0], decode=decode)"
   ]
  },
  {
   "cell_type": "markdown",
   "metadata": {},
   "source": [
    "We can do the same for all anomaly types."
   ]
  },
  {
   "cell_type": "code",
   "execution_count": 14,
   "metadata": {},
   "outputs": [
    {
     "name": "stdout",
     "output_type": "stream",
     "text": [
      "Early\n"
     ]
    },
    {
     "data": {
      "text/html": [
       "<style  type=\"text/css\" >\n",
       "</style><table id=\"T_a5816ea8_6c91_11ea_9a64_5118a6b423c8\" ><thead>    <tr>        <th class=\"col_heading level0 col0\" >0</th>        <th class=\"col_heading level0 col1\" >1</th>        <th class=\"col_heading level0 col2\" >2</th>        <th class=\"col_heading level0 col3\" >3</th>        <th class=\"col_heading level0 col4\" >4</th>        <th class=\"col_heading level0 col5\" >5</th>        <th class=\"col_heading level0 col6\" >6</th>        <th class=\"col_heading level0 col7\" >7</th>        <th class=\"col_heading level0 col8\" >8</th>        <th class=\"col_heading level0 col9\" >9</th>        <th class=\"col_heading level0 col10\" >10</th>        <th class=\"col_heading level0 col11\" >11</th>        <th class=\"col_heading level0 col12\" >12</th>        <th class=\"col_heading level0 col13\" >13</th>        <th class=\"col_heading level0 col14\" >14</th>    </tr></thead><tbody>\n",
       "                <tr>\n",
       "                                <td id=\"T_a5816ea8_6c91_11ea_9a64_5118a6b423c8row0_col0\" class=\"data row0 col0\" >▶</td>\n",
       "                        <td id=\"T_a5816ea8_6c91_11ea_9a64_5118a6b423c8row0_col1\" class=\"data row0 col1\" >Identify Problem</td>\n",
       "                        <td id=\"T_a5816ea8_6c91_11ea_9a64_5118a6b423c8row0_col2\" class=\"data row0 col2\" >Research Related Work</td>\n",
       "                        <td id=\"T_a5816ea8_6c91_11ea_9a64_5118a6b423c8row0_col3\" class=\"data row0 col3\" >Develop Method</td>\n",
       "                        <td id=\"T_a5816ea8_6c91_11ea_9a64_5118a6b423c8row0_col4\" class=\"data row0 col4\" >Experiment</td>\n",
       "                        <td id=\"T_a5816ea8_6c91_11ea_9a64_5118a6b423c8row0_col5\" class=\"data row0 col5\" >Submit</td>\n",
       "                        <td id=\"T_a5816ea8_6c91_11ea_9a64_5118a6b423c8row0_col6\" class=\"data row0 col6\" >Evaluate</td>\n",
       "                        <td id=\"T_a5816ea8_6c91_11ea_9a64_5118a6b423c8row0_col7\" class=\"data row0 col7\" >Conclude</td>\n",
       "                        <td id=\"T_a5816ea8_6c91_11ea_9a64_5118a6b423c8row0_col8\" class=\"data row0 col8\" >»</td>\n",
       "                        <td id=\"T_a5816ea8_6c91_11ea_9a64_5118a6b423c8row0_col9\" class=\"data row0 col9\" >Review</td>\n",
       "                        <td id=\"T_a5816ea8_6c91_11ea_9a64_5118a6b423c8row0_col10\" class=\"data row0 col10\" >Minor Revision</td>\n",
       "                        <td id=\"T_a5816ea8_6c91_11ea_9a64_5118a6b423c8row0_col11\" class=\"data row0 col11\" >Revise</td>\n",
       "                        <td id=\"T_a5816ea8_6c91_11ea_9a64_5118a6b423c8row0_col12\" class=\"data row0 col12\" >Submit</td>\n",
       "                        <td id=\"T_a5816ea8_6c91_11ea_9a64_5118a6b423c8row0_col13\" class=\"data row0 col13\" >Final Decision</td>\n",
       "                        <td id=\"T_a5816ea8_6c91_11ea_9a64_5118a6b423c8row0_col14\" class=\"data row0 col14\" >■</td>\n",
       "            </tr>\n",
       "            <tr>\n",
       "                                <td id=\"T_a5816ea8_6c91_11ea_9a64_5118a6b423c8row1_col0\" class=\"data row1 col0\" >▶</td>\n",
       "                        <td id=\"T_a5816ea8_6c91_11ea_9a64_5118a6b423c8row1_col1\" class=\"data row1 col1\" >Identify Problem</td>\n",
       "                        <td id=\"T_a5816ea8_6c91_11ea_9a64_5118a6b423c8row1_col2\" class=\"data row1 col2\" >Research Related Work</td>\n",
       "                        <td id=\"T_a5816ea8_6c91_11ea_9a64_5118a6b423c8row1_col3\" class=\"data row1 col3\" >Develop Method</td>\n",
       "                        <td id=\"T_a5816ea8_6c91_11ea_9a64_5118a6b423c8row1_col4\" class=\"data row1 col4\" >Experiment</td>\n",
       "                        <td id=\"T_a5816ea8_6c91_11ea_9a64_5118a6b423c8row1_col5\" class=\"data row1 col5\" >»</td>\n",
       "                        <td id=\"T_a5816ea8_6c91_11ea_9a64_5118a6b423c8row1_col6\" class=\"data row1 col6\" >Evaluate</td>\n",
       "                        <td id=\"T_a5816ea8_6c91_11ea_9a64_5118a6b423c8row1_col7\" class=\"data row1 col7\" >Conclude</td>\n",
       "                        <td id=\"T_a5816ea8_6c91_11ea_9a64_5118a6b423c8row1_col8\" class=\"data row1 col8\" >Submit</td>\n",
       "                        <td id=\"T_a5816ea8_6c91_11ea_9a64_5118a6b423c8row1_col9\" class=\"data row1 col9\" >Review</td>\n",
       "                        <td id=\"T_a5816ea8_6c91_11ea_9a64_5118a6b423c8row1_col10\" class=\"data row1 col10\" >Minor Revision</td>\n",
       "                        <td id=\"T_a5816ea8_6c91_11ea_9a64_5118a6b423c8row1_col11\" class=\"data row1 col11\" >Revise</td>\n",
       "                        <td id=\"T_a5816ea8_6c91_11ea_9a64_5118a6b423c8row1_col12\" class=\"data row1 col12\" >Submit</td>\n",
       "                        <td id=\"T_a5816ea8_6c91_11ea_9a64_5118a6b423c8row1_col13\" class=\"data row1 col13\" >Final Decision</td>\n",
       "                        <td id=\"T_a5816ea8_6c91_11ea_9a64_5118a6b423c8row1_col14\" class=\"data row1 col14\" >■</td>\n",
       "            </tr>\n",
       "    </tbody></table>"
      ],
      "text/plain": [
       "<pandas.io.formats.style.Styler at 0x7fa0dc41bf28>"
      ]
     },
     "metadata": {},
     "output_type": "display_data"
    },
    {
     "name": "stdout",
     "output_type": "stream",
     "text": [
      "Normal\n"
     ]
    },
    {
     "data": {
      "text/html": [
       "<style  type=\"text/css\" >\n",
       "</style><table id=\"T_a5821498_6c91_11ea_9a64_5118a6b423c8\" ><thead>    <tr>        <th class=\"col_heading level0 col0\" >0</th>        <th class=\"col_heading level0 col1\" >1</th>        <th class=\"col_heading level0 col2\" >2</th>        <th class=\"col_heading level0 col3\" >3</th>        <th class=\"col_heading level0 col4\" >4</th>        <th class=\"col_heading level0 col5\" >5</th>        <th class=\"col_heading level0 col6\" >6</th>        <th class=\"col_heading level0 col7\" >7</th>        <th class=\"col_heading level0 col8\" >8</th>        <th class=\"col_heading level0 col9\" >9</th>        <th class=\"col_heading level0 col10\" >10</th>        <th class=\"col_heading level0 col11\" >11</th>        <th class=\"col_heading level0 col12\" >12</th>        <th class=\"col_heading level0 col13\" >13</th>    </tr></thead><tbody>\n",
       "                <tr>\n",
       "                                <td id=\"T_a5821498_6c91_11ea_9a64_5118a6b423c8row0_col0\" class=\"data row0 col0\" >▶</td>\n",
       "                        <td id=\"T_a5821498_6c91_11ea_9a64_5118a6b423c8row0_col1\" class=\"data row0 col1\" >Identify Problem</td>\n",
       "                        <td id=\"T_a5821498_6c91_11ea_9a64_5118a6b423c8row0_col2\" class=\"data row0 col2\" >Research Related Work</td>\n",
       "                        <td id=\"T_a5821498_6c91_11ea_9a64_5118a6b423c8row0_col3\" class=\"data row0 col3\" >Develop Method</td>\n",
       "                        <td id=\"T_a5821498_6c91_11ea_9a64_5118a6b423c8row0_col4\" class=\"data row0 col4\" >Experiment</td>\n",
       "                        <td id=\"T_a5821498_6c91_11ea_9a64_5118a6b423c8row0_col5\" class=\"data row0 col5\" >Evaluate</td>\n",
       "                        <td id=\"T_a5821498_6c91_11ea_9a64_5118a6b423c8row0_col6\" class=\"data row0 col6\" >Conclude</td>\n",
       "                        <td id=\"T_a5821498_6c91_11ea_9a64_5118a6b423c8row0_col7\" class=\"data row0 col7\" >Submit</td>\n",
       "                        <td id=\"T_a5821498_6c91_11ea_9a64_5118a6b423c8row0_col8\" class=\"data row0 col8\" >Review</td>\n",
       "                        <td id=\"T_a5821498_6c91_11ea_9a64_5118a6b423c8row0_col9\" class=\"data row0 col9\" >Minor Revision</td>\n",
       "                        <td id=\"T_a5821498_6c91_11ea_9a64_5118a6b423c8row0_col10\" class=\"data row0 col10\" >Revise</td>\n",
       "                        <td id=\"T_a5821498_6c91_11ea_9a64_5118a6b423c8row0_col11\" class=\"data row0 col11\" >Submit</td>\n",
       "                        <td id=\"T_a5821498_6c91_11ea_9a64_5118a6b423c8row0_col12\" class=\"data row0 col12\" >Final Decision</td>\n",
       "                        <td id=\"T_a5821498_6c91_11ea_9a64_5118a6b423c8row0_col13\" class=\"data row0 col13\" >■</td>\n",
       "            </tr>\n",
       "            <tr>\n",
       "                                <td id=\"T_a5821498_6c91_11ea_9a64_5118a6b423c8row1_col0\" class=\"data row1 col0\" >▶</td>\n",
       "                        <td id=\"T_a5821498_6c91_11ea_9a64_5118a6b423c8row1_col1\" class=\"data row1 col1\" >Identify Problem</td>\n",
       "                        <td id=\"T_a5821498_6c91_11ea_9a64_5118a6b423c8row1_col2\" class=\"data row1 col2\" >Research Related Work</td>\n",
       "                        <td id=\"T_a5821498_6c91_11ea_9a64_5118a6b423c8row1_col3\" class=\"data row1 col3\" >Develop Method</td>\n",
       "                        <td id=\"T_a5821498_6c91_11ea_9a64_5118a6b423c8row1_col4\" class=\"data row1 col4\" >Experiment</td>\n",
       "                        <td id=\"T_a5821498_6c91_11ea_9a64_5118a6b423c8row1_col5\" class=\"data row1 col5\" >Evaluate</td>\n",
       "                        <td id=\"T_a5821498_6c91_11ea_9a64_5118a6b423c8row1_col6\" class=\"data row1 col6\" >Conclude</td>\n",
       "                        <td id=\"T_a5821498_6c91_11ea_9a64_5118a6b423c8row1_col7\" class=\"data row1 col7\" >Submit</td>\n",
       "                        <td id=\"T_a5821498_6c91_11ea_9a64_5118a6b423c8row1_col8\" class=\"data row1 col8\" >Review</td>\n",
       "                        <td id=\"T_a5821498_6c91_11ea_9a64_5118a6b423c8row1_col9\" class=\"data row1 col9\" >Minor Revision</td>\n",
       "                        <td id=\"T_a5821498_6c91_11ea_9a64_5118a6b423c8row1_col10\" class=\"data row1 col10\" >Revise</td>\n",
       "                        <td id=\"T_a5821498_6c91_11ea_9a64_5118a6b423c8row1_col11\" class=\"data row1 col11\" >Submit</td>\n",
       "                        <td id=\"T_a5821498_6c91_11ea_9a64_5118a6b423c8row1_col12\" class=\"data row1 col12\" >Final Decision</td>\n",
       "                        <td id=\"T_a5821498_6c91_11ea_9a64_5118a6b423c8row1_col13\" class=\"data row1 col13\" >■</td>\n",
       "            </tr>\n",
       "    </tbody></table>"
      ],
      "text/plain": [
       "<pandas.io.formats.style.Styler at 0x7fa0dc443cc0>"
      ]
     },
     "metadata": {},
     "output_type": "display_data"
    },
    {
     "name": "stdout",
     "output_type": "stream",
     "text": [
      "Late\n"
     ]
    },
    {
     "data": {
      "text/html": [
       "<style  type=\"text/css\" >\n",
       "</style><table id=\"T_a582aafc_6c91_11ea_9a64_5118a6b423c8\" ><thead>    <tr>        <th class=\"col_heading level0 col0\" >0</th>        <th class=\"col_heading level0 col1\" >1</th>        <th class=\"col_heading level0 col2\" >2</th>        <th class=\"col_heading level0 col3\" >3</th>        <th class=\"col_heading level0 col4\" >4</th>        <th class=\"col_heading level0 col5\" >5</th>        <th class=\"col_heading level0 col6\" >6</th>        <th class=\"col_heading level0 col7\" >7</th>        <th class=\"col_heading level0 col8\" >8</th>        <th class=\"col_heading level0 col9\" >9</th>        <th class=\"col_heading level0 col10\" >10</th>        <th class=\"col_heading level0 col11\" >11</th>        <th class=\"col_heading level0 col12\" >12</th>        <th class=\"col_heading level0 col13\" >13</th>        <th class=\"col_heading level0 col14\" >14</th>        <th class=\"col_heading level0 col15\" >15</th>    </tr></thead><tbody>\n",
       "                <tr>\n",
       "                                <td id=\"T_a582aafc_6c91_11ea_9a64_5118a6b423c8row0_col0\" class=\"data row0 col0\" >▶</td>\n",
       "                        <td id=\"T_a582aafc_6c91_11ea_9a64_5118a6b423c8row0_col1\" class=\"data row0 col1\" >Identify Problem</td>\n",
       "                        <td id=\"T_a582aafc_6c91_11ea_9a64_5118a6b423c8row0_col2\" class=\"data row0 col2\" >»</td>\n",
       "                        <td id=\"T_a582aafc_6c91_11ea_9a64_5118a6b423c8row0_col3\" class=\"data row0 col3\" >»</td>\n",
       "                        <td id=\"T_a582aafc_6c91_11ea_9a64_5118a6b423c8row0_col4\" class=\"data row0 col4\" >Experiment</td>\n",
       "                        <td id=\"T_a582aafc_6c91_11ea_9a64_5118a6b423c8row0_col5\" class=\"data row0 col5\" >Research Related Work</td>\n",
       "                        <td id=\"T_a582aafc_6c91_11ea_9a64_5118a6b423c8row0_col6\" class=\"data row0 col6\" >Develop Method</td>\n",
       "                        <td id=\"T_a582aafc_6c91_11ea_9a64_5118a6b423c8row0_col7\" class=\"data row0 col7\" >Evaluate</td>\n",
       "                        <td id=\"T_a582aafc_6c91_11ea_9a64_5118a6b423c8row0_col8\" class=\"data row0 col8\" >Conclude</td>\n",
       "                        <td id=\"T_a582aafc_6c91_11ea_9a64_5118a6b423c8row0_col9\" class=\"data row0 col9\" >Submit</td>\n",
       "                        <td id=\"T_a582aafc_6c91_11ea_9a64_5118a6b423c8row0_col10\" class=\"data row0 col10\" >Review</td>\n",
       "                        <td id=\"T_a582aafc_6c91_11ea_9a64_5118a6b423c8row0_col11\" class=\"data row0 col11\" >Minor Revision</td>\n",
       "                        <td id=\"T_a582aafc_6c91_11ea_9a64_5118a6b423c8row0_col12\" class=\"data row0 col12\" >Revise</td>\n",
       "                        <td id=\"T_a582aafc_6c91_11ea_9a64_5118a6b423c8row0_col13\" class=\"data row0 col13\" >Submit</td>\n",
       "                        <td id=\"T_a582aafc_6c91_11ea_9a64_5118a6b423c8row0_col14\" class=\"data row0 col14\" >Final Decision</td>\n",
       "                        <td id=\"T_a582aafc_6c91_11ea_9a64_5118a6b423c8row0_col15\" class=\"data row0 col15\" >■</td>\n",
       "            </tr>\n",
       "            <tr>\n",
       "                                <td id=\"T_a582aafc_6c91_11ea_9a64_5118a6b423c8row1_col0\" class=\"data row1 col0\" >▶</td>\n",
       "                        <td id=\"T_a582aafc_6c91_11ea_9a64_5118a6b423c8row1_col1\" class=\"data row1 col1\" >Identify Problem</td>\n",
       "                        <td id=\"T_a582aafc_6c91_11ea_9a64_5118a6b423c8row1_col2\" class=\"data row1 col2\" >Research Related Work</td>\n",
       "                        <td id=\"T_a582aafc_6c91_11ea_9a64_5118a6b423c8row1_col3\" class=\"data row1 col3\" >Develop Method</td>\n",
       "                        <td id=\"T_a582aafc_6c91_11ea_9a64_5118a6b423c8row1_col4\" class=\"data row1 col4\" >Experiment</td>\n",
       "                        <td id=\"T_a582aafc_6c91_11ea_9a64_5118a6b423c8row1_col5\" class=\"data row1 col5\" >»</td>\n",
       "                        <td id=\"T_a582aafc_6c91_11ea_9a64_5118a6b423c8row1_col6\" class=\"data row1 col6\" >»</td>\n",
       "                        <td id=\"T_a582aafc_6c91_11ea_9a64_5118a6b423c8row1_col7\" class=\"data row1 col7\" >Evaluate</td>\n",
       "                        <td id=\"T_a582aafc_6c91_11ea_9a64_5118a6b423c8row1_col8\" class=\"data row1 col8\" >Conclude</td>\n",
       "                        <td id=\"T_a582aafc_6c91_11ea_9a64_5118a6b423c8row1_col9\" class=\"data row1 col9\" >Submit</td>\n",
       "                        <td id=\"T_a582aafc_6c91_11ea_9a64_5118a6b423c8row1_col10\" class=\"data row1 col10\" >Review</td>\n",
       "                        <td id=\"T_a582aafc_6c91_11ea_9a64_5118a6b423c8row1_col11\" class=\"data row1 col11\" >Minor Revision</td>\n",
       "                        <td id=\"T_a582aafc_6c91_11ea_9a64_5118a6b423c8row1_col12\" class=\"data row1 col12\" >Revise</td>\n",
       "                        <td id=\"T_a582aafc_6c91_11ea_9a64_5118a6b423c8row1_col13\" class=\"data row1 col13\" >Submit</td>\n",
       "                        <td id=\"T_a582aafc_6c91_11ea_9a64_5118a6b423c8row1_col14\" class=\"data row1 col14\" >Final Decision</td>\n",
       "                        <td id=\"T_a582aafc_6c91_11ea_9a64_5118a6b423c8row1_col15\" class=\"data row1 col15\" >■</td>\n",
       "            </tr>\n",
       "    </tbody></table>"
      ],
      "text/plain": [
       "<pandas.io.formats.style.Styler at 0x7fa0dc443128>"
      ]
     },
     "metadata": {},
     "output_type": "display_data"
    },
    {
     "name": "stdout",
     "output_type": "stream",
     "text": [
      "Attribute\n"
     ]
    },
    {
     "data": {
      "text/html": [
       "<style  type=\"text/css\" >\n",
       "</style><table id=\"T_a5833f62_6c91_11ea_9a64_5118a6b423c8\" ><thead>    <tr>        <th class=\"col_heading level0 col0\" >0</th>        <th class=\"col_heading level0 col1\" >1</th>        <th class=\"col_heading level0 col2\" >2</th>        <th class=\"col_heading level0 col3\" >3</th>        <th class=\"col_heading level0 col4\" >4</th>        <th class=\"col_heading level0 col5\" >5</th>        <th class=\"col_heading level0 col6\" >6</th>        <th class=\"col_heading level0 col7\" >7</th>        <th class=\"col_heading level0 col8\" >8</th>        <th class=\"col_heading level0 col9\" >9</th>        <th class=\"col_heading level0 col10\" >10</th>        <th class=\"col_heading level0 col11\" >11</th>        <th class=\"col_heading level0 col12\" >12</th>        <th class=\"col_heading level0 col13\" >13</th>    </tr></thead><tbody>\n",
       "                <tr>\n",
       "                                <td id=\"T_a5833f62_6c91_11ea_9a64_5118a6b423c8row0_col0\" class=\"data row0 col0\" >▶</td>\n",
       "                        <td id=\"T_a5833f62_6c91_11ea_9a64_5118a6b423c8row0_col1\" class=\"data row0 col1\" >Identify Problem</td>\n",
       "                        <td id=\"T_a5833f62_6c91_11ea_9a64_5118a6b423c8row0_col2\" class=\"data row0 col2\" >Research Related Work</td>\n",
       "                        <td id=\"T_a5833f62_6c91_11ea_9a64_5118a6b423c8row0_col3\" class=\"data row0 col3\" >Develop Method</td>\n",
       "                        <td id=\"T_a5833f62_6c91_11ea_9a64_5118a6b423c8row0_col4\" class=\"data row0 col4\" >Experiment</td>\n",
       "                        <td id=\"T_a5833f62_6c91_11ea_9a64_5118a6b423c8row0_col5\" class=\"data row0 col5\" >Evaluate</td>\n",
       "                        <td id=\"T_a5833f62_6c91_11ea_9a64_5118a6b423c8row0_col6\" class=\"data row0 col6\" >Conclude</td>\n",
       "                        <td id=\"T_a5833f62_6c91_11ea_9a64_5118a6b423c8row0_col7\" class=\"data row0 col7\" >Submit</td>\n",
       "                        <td id=\"T_a5833f62_6c91_11ea_9a64_5118a6b423c8row0_col8\" class=\"data row0 col8\" >Review</td>\n",
       "                        <td id=\"T_a5833f62_6c91_11ea_9a64_5118a6b423c8row0_col9\" class=\"data row0 col9\" >Minor Revision</td>\n",
       "                        <td id=\"T_a5833f62_6c91_11ea_9a64_5118a6b423c8row0_col10\" class=\"data row0 col10\" >Revise</td>\n",
       "                        <td id=\"T_a5833f62_6c91_11ea_9a64_5118a6b423c8row0_col11\" class=\"data row0 col11\" >Submit</td>\n",
       "                        <td id=\"T_a5833f62_6c91_11ea_9a64_5118a6b423c8row0_col12\" class=\"data row0 col12\" >Final Decision</td>\n",
       "                        <td id=\"T_a5833f62_6c91_11ea_9a64_5118a6b423c8row0_col13\" class=\"data row0 col13\" >■</td>\n",
       "            </tr>\n",
       "            <tr>\n",
       "                                <td id=\"T_a5833f62_6c91_11ea_9a64_5118a6b423c8row1_col0\" class=\"data row1 col0\" >▶</td>\n",
       "                        <td id=\"T_a5833f62_6c91_11ea_9a64_5118a6b423c8row1_col1\" class=\"data row1 col1\" >Identify Problem</td>\n",
       "                        <td id=\"T_a5833f62_6c91_11ea_9a64_5118a6b423c8row1_col2\" class=\"data row1 col2\" >Research Related Work</td>\n",
       "                        <td id=\"T_a5833f62_6c91_11ea_9a64_5118a6b423c8row1_col3\" class=\"data row1 col3\" >Develop Method</td>\n",
       "                        <td id=\"T_a5833f62_6c91_11ea_9a64_5118a6b423c8row1_col4\" class=\"data row1 col4\" >Experiment</td>\n",
       "                        <td id=\"T_a5833f62_6c91_11ea_9a64_5118a6b423c8row1_col5\" class=\"data row1 col5\" >Evaluate</td>\n",
       "                        <td id=\"T_a5833f62_6c91_11ea_9a64_5118a6b423c8row1_col6\" class=\"data row1 col6\" >Conclude</td>\n",
       "                        <td id=\"T_a5833f62_6c91_11ea_9a64_5118a6b423c8row1_col7\" class=\"data row1 col7\" >Submit</td>\n",
       "                        <td id=\"T_a5833f62_6c91_11ea_9a64_5118a6b423c8row1_col8\" class=\"data row1 col8\" >Review</td>\n",
       "                        <td id=\"T_a5833f62_6c91_11ea_9a64_5118a6b423c8row1_col9\" class=\"data row1 col9\" >Minor Revision</td>\n",
       "                        <td id=\"T_a5833f62_6c91_11ea_9a64_5118a6b423c8row1_col10\" class=\"data row1 col10\" >Revise</td>\n",
       "                        <td id=\"T_a5833f62_6c91_11ea_9a64_5118a6b423c8row1_col11\" class=\"data row1 col11\" >Submit</td>\n",
       "                        <td id=\"T_a5833f62_6c91_11ea_9a64_5118a6b423c8row1_col12\" class=\"data row1 col12\" >Final Decision</td>\n",
       "                        <td id=\"T_a5833f62_6c91_11ea_9a64_5118a6b423c8row1_col13\" class=\"data row1 col13\" >■</td>\n",
       "            </tr>\n",
       "    </tbody></table>"
      ],
      "text/plain": [
       "<pandas.io.formats.style.Styler at 0x7fa1b4069d68>"
      ]
     },
     "metadata": {},
     "output_type": "display_data"
    },
    {
     "name": "stdout",
     "output_type": "stream",
     "text": [
      "Insert\n"
     ]
    },
    {
     "data": {
      "text/html": [
       "<style  type=\"text/css\" >\n",
       "</style><table id=\"T_a583c3ba_6c91_11ea_9a64_5118a6b423c8\" ><thead>    <tr>        <th class=\"col_heading level0 col0\" >0</th>        <th class=\"col_heading level0 col1\" >1</th>        <th class=\"col_heading level0 col2\" >2</th>        <th class=\"col_heading level0 col3\" >3</th>        <th class=\"col_heading level0 col4\" >4</th>        <th class=\"col_heading level0 col5\" >5</th>        <th class=\"col_heading level0 col6\" >6</th>        <th class=\"col_heading level0 col7\" >7</th>        <th class=\"col_heading level0 col8\" >8</th>        <th class=\"col_heading level0 col9\" >9</th>        <th class=\"col_heading level0 col10\" >10</th>        <th class=\"col_heading level0 col11\" >11</th>        <th class=\"col_heading level0 col12\" >12</th>        <th class=\"col_heading level0 col13\" >13</th>        <th class=\"col_heading level0 col14\" >14</th>        <th class=\"col_heading level0 col15\" >15</th>    </tr></thead><tbody>\n",
       "                <tr>\n",
       "                                <td id=\"T_a583c3ba_6c91_11ea_9a64_5118a6b423c8row0_col0\" class=\"data row0 col0\" >▶</td>\n",
       "                        <td id=\"T_a583c3ba_6c91_11ea_9a64_5118a6b423c8row0_col1\" class=\"data row0 col1\" >Identify Problem</td>\n",
       "                        <td id=\"T_a583c3ba_6c91_11ea_9a64_5118a6b423c8row0_col2\" class=\"data row0 col2\" >Research Related Work</td>\n",
       "                        <td id=\"T_a583c3ba_6c91_11ea_9a64_5118a6b423c8row0_col3\" class=\"data row0 col3\" >Random activity 10</td>\n",
       "                        <td id=\"T_a583c3ba_6c91_11ea_9a64_5118a6b423c8row0_col4\" class=\"data row0 col4\" >Develop Method</td>\n",
       "                        <td id=\"T_a583c3ba_6c91_11ea_9a64_5118a6b423c8row0_col5\" class=\"data row0 col5\" >Experiment</td>\n",
       "                        <td id=\"T_a583c3ba_6c91_11ea_9a64_5118a6b423c8row0_col6\" class=\"data row0 col6\" >Evaluate</td>\n",
       "                        <td id=\"T_a583c3ba_6c91_11ea_9a64_5118a6b423c8row0_col7\" class=\"data row0 col7\" >Conclude</td>\n",
       "                        <td id=\"T_a583c3ba_6c91_11ea_9a64_5118a6b423c8row0_col8\" class=\"data row0 col8\" >Random activity 12</td>\n",
       "                        <td id=\"T_a583c3ba_6c91_11ea_9a64_5118a6b423c8row0_col9\" class=\"data row0 col9\" >Submit</td>\n",
       "                        <td id=\"T_a583c3ba_6c91_11ea_9a64_5118a6b423c8row0_col10\" class=\"data row0 col10\" >Review</td>\n",
       "                        <td id=\"T_a583c3ba_6c91_11ea_9a64_5118a6b423c8row0_col11\" class=\"data row0 col11\" >Minor Revision</td>\n",
       "                        <td id=\"T_a583c3ba_6c91_11ea_9a64_5118a6b423c8row0_col12\" class=\"data row0 col12\" >Revise</td>\n",
       "                        <td id=\"T_a583c3ba_6c91_11ea_9a64_5118a6b423c8row0_col13\" class=\"data row0 col13\" >Submit</td>\n",
       "                        <td id=\"T_a583c3ba_6c91_11ea_9a64_5118a6b423c8row0_col14\" class=\"data row0 col14\" >Final Decision</td>\n",
       "                        <td id=\"T_a583c3ba_6c91_11ea_9a64_5118a6b423c8row0_col15\" class=\"data row0 col15\" >■</td>\n",
       "            </tr>\n",
       "            <tr>\n",
       "                                <td id=\"T_a583c3ba_6c91_11ea_9a64_5118a6b423c8row1_col0\" class=\"data row1 col0\" >▶</td>\n",
       "                        <td id=\"T_a583c3ba_6c91_11ea_9a64_5118a6b423c8row1_col1\" class=\"data row1 col1\" >Identify Problem</td>\n",
       "                        <td id=\"T_a583c3ba_6c91_11ea_9a64_5118a6b423c8row1_col2\" class=\"data row1 col2\" >Research Related Work</td>\n",
       "                        <td id=\"T_a583c3ba_6c91_11ea_9a64_5118a6b423c8row1_col3\" class=\"data row1 col3\" >»</td>\n",
       "                        <td id=\"T_a583c3ba_6c91_11ea_9a64_5118a6b423c8row1_col4\" class=\"data row1 col4\" >Develop Method</td>\n",
       "                        <td id=\"T_a583c3ba_6c91_11ea_9a64_5118a6b423c8row1_col5\" class=\"data row1 col5\" >Experiment</td>\n",
       "                        <td id=\"T_a583c3ba_6c91_11ea_9a64_5118a6b423c8row1_col6\" class=\"data row1 col6\" >Evaluate</td>\n",
       "                        <td id=\"T_a583c3ba_6c91_11ea_9a64_5118a6b423c8row1_col7\" class=\"data row1 col7\" >Conclude</td>\n",
       "                        <td id=\"T_a583c3ba_6c91_11ea_9a64_5118a6b423c8row1_col8\" class=\"data row1 col8\" >»</td>\n",
       "                        <td id=\"T_a583c3ba_6c91_11ea_9a64_5118a6b423c8row1_col9\" class=\"data row1 col9\" >Submit</td>\n",
       "                        <td id=\"T_a583c3ba_6c91_11ea_9a64_5118a6b423c8row1_col10\" class=\"data row1 col10\" >Review</td>\n",
       "                        <td id=\"T_a583c3ba_6c91_11ea_9a64_5118a6b423c8row1_col11\" class=\"data row1 col11\" >Minor Revision</td>\n",
       "                        <td id=\"T_a583c3ba_6c91_11ea_9a64_5118a6b423c8row1_col12\" class=\"data row1 col12\" >Revise</td>\n",
       "                        <td id=\"T_a583c3ba_6c91_11ea_9a64_5118a6b423c8row1_col13\" class=\"data row1 col13\" >Submit</td>\n",
       "                        <td id=\"T_a583c3ba_6c91_11ea_9a64_5118a6b423c8row1_col14\" class=\"data row1 col14\" >Final Decision</td>\n",
       "                        <td id=\"T_a583c3ba_6c91_11ea_9a64_5118a6b423c8row1_col15\" class=\"data row1 col15\" >■</td>\n",
       "            </tr>\n",
       "    </tbody></table>"
      ],
      "text/plain": [
       "<pandas.io.formats.style.Styler at 0x7fa0dc470dd8>"
      ]
     },
     "metadata": {},
     "output_type": "display_data"
    },
    {
     "name": "stdout",
     "output_type": "stream",
     "text": [
      "Rework\n"
     ]
    },
    {
     "data": {
      "text/html": [
       "<style  type=\"text/css\" >\n",
       "</style><table id=\"T_a5845a82_6c91_11ea_9a64_5118a6b423c8\" ><thead>    <tr>        <th class=\"col_heading level0 col0\" >0</th>        <th class=\"col_heading level0 col1\" >1</th>        <th class=\"col_heading level0 col2\" >2</th>        <th class=\"col_heading level0 col3\" >3</th>        <th class=\"col_heading level0 col4\" >4</th>        <th class=\"col_heading level0 col5\" >5</th>        <th class=\"col_heading level0 col6\" >6</th>        <th class=\"col_heading level0 col7\" >7</th>        <th class=\"col_heading level0 col8\" >8</th>        <th class=\"col_heading level0 col9\" >9</th>        <th class=\"col_heading level0 col10\" >10</th>        <th class=\"col_heading level0 col11\" >11</th>        <th class=\"col_heading level0 col12\" >12</th>        <th class=\"col_heading level0 col13\" >13</th>        <th class=\"col_heading level0 col14\" >14</th>        <th class=\"col_heading level0 col15\" >15</th>    </tr></thead><tbody>\n",
       "                <tr>\n",
       "                                <td id=\"T_a5845a82_6c91_11ea_9a64_5118a6b423c8row0_col0\" class=\"data row0 col0\" >▶</td>\n",
       "                        <td id=\"T_a5845a82_6c91_11ea_9a64_5118a6b423c8row0_col1\" class=\"data row0 col1\" >Identify Problem</td>\n",
       "                        <td id=\"T_a5845a82_6c91_11ea_9a64_5118a6b423c8row0_col2\" class=\"data row0 col2\" >Research Related Work</td>\n",
       "                        <td id=\"T_a5845a82_6c91_11ea_9a64_5118a6b423c8row0_col3\" class=\"data row0 col3\" >Develop Hypothesis</td>\n",
       "                        <td id=\"T_a5845a82_6c91_11ea_9a64_5118a6b423c8row0_col4\" class=\"data row0 col4\" >Experiment</td>\n",
       "                        <td id=\"T_a5845a82_6c91_11ea_9a64_5118a6b423c8row0_col5\" class=\"data row0 col5\" >Conduct Study</td>\n",
       "                        <td id=\"T_a5845a82_6c91_11ea_9a64_5118a6b423c8row0_col6\" class=\"data row0 col6\" >Conclude</td>\n",
       "                        <td id=\"T_a5845a82_6c91_11ea_9a64_5118a6b423c8row0_col7\" class=\"data row0 col7\" >Submit</td>\n",
       "                        <td id=\"T_a5845a82_6c91_11ea_9a64_5118a6b423c8row0_col8\" class=\"data row0 col8\" >Review</td>\n",
       "                        <td id=\"T_a5845a82_6c91_11ea_9a64_5118a6b423c8row0_col9\" class=\"data row0 col9\" >Minor Revision</td>\n",
       "                        <td id=\"T_a5845a82_6c91_11ea_9a64_5118a6b423c8row0_col10\" class=\"data row0 col10\" >Revise</td>\n",
       "                        <td id=\"T_a5845a82_6c91_11ea_9a64_5118a6b423c8row0_col11\" class=\"data row0 col11\" >Submit</td>\n",
       "                        <td id=\"T_a5845a82_6c91_11ea_9a64_5118a6b423c8row0_col12\" class=\"data row0 col12\" >Final Decision</td>\n",
       "                        <td id=\"T_a5845a82_6c91_11ea_9a64_5118a6b423c8row0_col13\" class=\"data row0 col13\" >Submit</td>\n",
       "                        <td id=\"T_a5845a82_6c91_11ea_9a64_5118a6b423c8row0_col14\" class=\"data row0 col14\" >Final Decision</td>\n",
       "                        <td id=\"T_a5845a82_6c91_11ea_9a64_5118a6b423c8row0_col15\" class=\"data row0 col15\" >■</td>\n",
       "            </tr>\n",
       "            <tr>\n",
       "                                <td id=\"T_a5845a82_6c91_11ea_9a64_5118a6b423c8row1_col0\" class=\"data row1 col0\" >▶</td>\n",
       "                        <td id=\"T_a5845a82_6c91_11ea_9a64_5118a6b423c8row1_col1\" class=\"data row1 col1\" >Identify Problem</td>\n",
       "                        <td id=\"T_a5845a82_6c91_11ea_9a64_5118a6b423c8row1_col2\" class=\"data row1 col2\" >Research Related Work</td>\n",
       "                        <td id=\"T_a5845a82_6c91_11ea_9a64_5118a6b423c8row1_col3\" class=\"data row1 col3\" >Develop Hypothesis</td>\n",
       "                        <td id=\"T_a5845a82_6c91_11ea_9a64_5118a6b423c8row1_col4\" class=\"data row1 col4\" >Experiment</td>\n",
       "                        <td id=\"T_a5845a82_6c91_11ea_9a64_5118a6b423c8row1_col5\" class=\"data row1 col5\" >Conduct Study</td>\n",
       "                        <td id=\"T_a5845a82_6c91_11ea_9a64_5118a6b423c8row1_col6\" class=\"data row1 col6\" >Conclude</td>\n",
       "                        <td id=\"T_a5845a82_6c91_11ea_9a64_5118a6b423c8row1_col7\" class=\"data row1 col7\" >Submit</td>\n",
       "                        <td id=\"T_a5845a82_6c91_11ea_9a64_5118a6b423c8row1_col8\" class=\"data row1 col8\" >Review</td>\n",
       "                        <td id=\"T_a5845a82_6c91_11ea_9a64_5118a6b423c8row1_col9\" class=\"data row1 col9\" >Minor Revision</td>\n",
       "                        <td id=\"T_a5845a82_6c91_11ea_9a64_5118a6b423c8row1_col10\" class=\"data row1 col10\" >Revise</td>\n",
       "                        <td id=\"T_a5845a82_6c91_11ea_9a64_5118a6b423c8row1_col11\" class=\"data row1 col11\" >Submit</td>\n",
       "                        <td id=\"T_a5845a82_6c91_11ea_9a64_5118a6b423c8row1_col12\" class=\"data row1 col12\" >Final Decision</td>\n",
       "                        <td id=\"T_a5845a82_6c91_11ea_9a64_5118a6b423c8row1_col13\" class=\"data row1 col13\" >»</td>\n",
       "                        <td id=\"T_a5845a82_6c91_11ea_9a64_5118a6b423c8row1_col14\" class=\"data row1 col14\" >»</td>\n",
       "                        <td id=\"T_a5845a82_6c91_11ea_9a64_5118a6b423c8row1_col15\" class=\"data row1 col15\" >■</td>\n",
       "            </tr>\n",
       "    </tbody></table>"
      ],
      "text/plain": [
       "<pandas.io.formats.style.Styler at 0x7fa0dc5eb128>"
      ]
     },
     "metadata": {},
     "output_type": "display_data"
    },
    {
     "name": "stdout",
     "output_type": "stream",
     "text": [
      "SkipSequence\n"
     ]
    },
    {
     "data": {
      "text/html": [
       "<style  type=\"text/css\" >\n",
       "</style><table id=\"T_a584e984_6c91_11ea_9a64_5118a6b423c8\" ><thead>    <tr>        <th class=\"col_heading level0 col0\" >0</th>        <th class=\"col_heading level0 col1\" >1</th>        <th class=\"col_heading level0 col2\" >2</th>        <th class=\"col_heading level0 col3\" >3</th>        <th class=\"col_heading level0 col4\" >4</th>        <th class=\"col_heading level0 col5\" >5</th>        <th class=\"col_heading level0 col6\" >6</th>        <th class=\"col_heading level0 col7\" >7</th>        <th class=\"col_heading level0 col8\" >8</th>        <th class=\"col_heading level0 col9\" >9</th>        <th class=\"col_heading level0 col10\" >10</th>        <th class=\"col_heading level0 col11\" >11</th>        <th class=\"col_heading level0 col12\" >12</th>        <th class=\"col_heading level0 col13\" >13</th>    </tr></thead><tbody>\n",
       "                <tr>\n",
       "                                <td id=\"T_a584e984_6c91_11ea_9a64_5118a6b423c8row0_col0\" class=\"data row0 col0\" >▶</td>\n",
       "                        <td id=\"T_a584e984_6c91_11ea_9a64_5118a6b423c8row0_col1\" class=\"data row0 col1\" >Identify Problem</td>\n",
       "                        <td id=\"T_a584e984_6c91_11ea_9a64_5118a6b423c8row0_col2\" class=\"data row0 col2\" >»</td>\n",
       "                        <td id=\"T_a584e984_6c91_11ea_9a64_5118a6b423c8row0_col3\" class=\"data row0 col3\" >»</td>\n",
       "                        <td id=\"T_a584e984_6c91_11ea_9a64_5118a6b423c8row0_col4\" class=\"data row0 col4\" >Experiment</td>\n",
       "                        <td id=\"T_a584e984_6c91_11ea_9a64_5118a6b423c8row0_col5\" class=\"data row0 col5\" >Evaluate</td>\n",
       "                        <td id=\"T_a584e984_6c91_11ea_9a64_5118a6b423c8row0_col6\" class=\"data row0 col6\" >Conclude</td>\n",
       "                        <td id=\"T_a584e984_6c91_11ea_9a64_5118a6b423c8row0_col7\" class=\"data row0 col7\" >Submit</td>\n",
       "                        <td id=\"T_a584e984_6c91_11ea_9a64_5118a6b423c8row0_col8\" class=\"data row0 col8\" >Review</td>\n",
       "                        <td id=\"T_a584e984_6c91_11ea_9a64_5118a6b423c8row0_col9\" class=\"data row0 col9\" >Minor Revision</td>\n",
       "                        <td id=\"T_a584e984_6c91_11ea_9a64_5118a6b423c8row0_col10\" class=\"data row0 col10\" >Revise</td>\n",
       "                        <td id=\"T_a584e984_6c91_11ea_9a64_5118a6b423c8row0_col11\" class=\"data row0 col11\" >Submit</td>\n",
       "                        <td id=\"T_a584e984_6c91_11ea_9a64_5118a6b423c8row0_col12\" class=\"data row0 col12\" >Final Decision</td>\n",
       "                        <td id=\"T_a584e984_6c91_11ea_9a64_5118a6b423c8row0_col13\" class=\"data row0 col13\" >■</td>\n",
       "            </tr>\n",
       "            <tr>\n",
       "                                <td id=\"T_a584e984_6c91_11ea_9a64_5118a6b423c8row1_col0\" class=\"data row1 col0\" >▶</td>\n",
       "                        <td id=\"T_a584e984_6c91_11ea_9a64_5118a6b423c8row1_col1\" class=\"data row1 col1\" >Identify Problem</td>\n",
       "                        <td id=\"T_a584e984_6c91_11ea_9a64_5118a6b423c8row1_col2\" class=\"data row1 col2\" >Research Related Work</td>\n",
       "                        <td id=\"T_a584e984_6c91_11ea_9a64_5118a6b423c8row1_col3\" class=\"data row1 col3\" >Develop Method</td>\n",
       "                        <td id=\"T_a584e984_6c91_11ea_9a64_5118a6b423c8row1_col4\" class=\"data row1 col4\" >Experiment</td>\n",
       "                        <td id=\"T_a584e984_6c91_11ea_9a64_5118a6b423c8row1_col5\" class=\"data row1 col5\" >Evaluate</td>\n",
       "                        <td id=\"T_a584e984_6c91_11ea_9a64_5118a6b423c8row1_col6\" class=\"data row1 col6\" >Conclude</td>\n",
       "                        <td id=\"T_a584e984_6c91_11ea_9a64_5118a6b423c8row1_col7\" class=\"data row1 col7\" >Submit</td>\n",
       "                        <td id=\"T_a584e984_6c91_11ea_9a64_5118a6b423c8row1_col8\" class=\"data row1 col8\" >Review</td>\n",
       "                        <td id=\"T_a584e984_6c91_11ea_9a64_5118a6b423c8row1_col9\" class=\"data row1 col9\" >Minor Revision</td>\n",
       "                        <td id=\"T_a584e984_6c91_11ea_9a64_5118a6b423c8row1_col10\" class=\"data row1 col10\" >Revise</td>\n",
       "                        <td id=\"T_a584e984_6c91_11ea_9a64_5118a6b423c8row1_col11\" class=\"data row1 col11\" >Submit</td>\n",
       "                        <td id=\"T_a584e984_6c91_11ea_9a64_5118a6b423c8row1_col12\" class=\"data row1 col12\" >Final Decision</td>\n",
       "                        <td id=\"T_a584e984_6c91_11ea_9a64_5118a6b423c8row1_col13\" class=\"data row1 col13\" >■</td>\n",
       "            </tr>\n",
       "    </tbody></table>"
      ],
      "text/plain": [
       "<pandas.io.formats.style.Styler at 0x7fa0dc41be48>"
      ]
     },
     "metadata": {},
     "output_type": "display_data"
    }
   ],
   "source": [
    "for anomaly_type in set(dataset.text_labels):\n",
    "    index = np.where(dataset.text_labels == anomaly_type)[0][0] # Select the first one\n",
    "    print(anomaly_type)\n",
    "    display_alignment(alignments[index][0], decode=decode)"
   ]
  },
  {
   "cell_type": "markdown",
   "metadata": {},
   "source": [
    "## Computing Alignments with the Heuristics Miner"
   ]
  },
  {
   "cell_type": "markdown",
   "metadata": {},
   "source": [
    "Now, let us take a look at the Heuristics Miner using the shorthand `'hm'`."
   ]
  },
  {
   "cell_type": "code",
   "execution_count": 15,
   "metadata": {},
   "outputs": [],
   "source": [
    "heuristics_miner, dataset = get_model('hm', dataset_name)"
   ]
  },
  {
   "cell_type": "code",
   "execution_count": 16,
   "metadata": {},
   "outputs": [
    {
     "name": "stderr",
     "output_type": "stream",
     "text": [
      "100%|██████████| 651/651 [00:02<00:00, 257.73it/s]\n"
     ]
    }
   ],
   "source": [
    "alignments, x, costs = heuristics_miner.align(dataset)"
   ]
  },
  {
   "cell_type": "markdown",
   "metadata": {},
   "source": [
    "Let us look at the same examples as for the DeepAlign algorithm. We can see that the Heuristics Miner does not always produce the correct alignments."
   ]
  },
  {
   "cell_type": "code",
   "execution_count": 17,
   "metadata": {},
   "outputs": [
    {
     "name": "stdout",
     "output_type": "stream",
     "text": [
      "Early\n"
     ]
    },
    {
     "data": {
      "text/html": [
       "<style  type=\"text/css\" >\n",
       "</style><table id=\"T_aed5332c_6c91_11ea_9a64_5118a6b423c8\" ><thead>    <tr>        <th class=\"col_heading level0 col0\" >0</th>        <th class=\"col_heading level0 col1\" >1</th>        <th class=\"col_heading level0 col2\" >2</th>        <th class=\"col_heading level0 col3\" >3</th>        <th class=\"col_heading level0 col4\" >4</th>        <th class=\"col_heading level0 col5\" >5</th>        <th class=\"col_heading level0 col6\" >6</th>        <th class=\"col_heading level0 col7\" >7</th>        <th class=\"col_heading level0 col8\" >8</th>        <th class=\"col_heading level0 col9\" >9</th>        <th class=\"col_heading level0 col10\" >10</th>        <th class=\"col_heading level0 col11\" >11</th>        <th class=\"col_heading level0 col12\" >12</th>        <th class=\"col_heading level0 col13\" >13</th>        <th class=\"col_heading level0 col14\" >14</th>    </tr></thead><tbody>\n",
       "                <tr>\n",
       "                                <td id=\"T_aed5332c_6c91_11ea_9a64_5118a6b423c8row0_col0\" class=\"data row0 col0\" >▶</td>\n",
       "                        <td id=\"T_aed5332c_6c91_11ea_9a64_5118a6b423c8row0_col1\" class=\"data row0 col1\" >Identify Problem</td>\n",
       "                        <td id=\"T_aed5332c_6c91_11ea_9a64_5118a6b423c8row0_col2\" class=\"data row0 col2\" >Research Related Work</td>\n",
       "                        <td id=\"T_aed5332c_6c91_11ea_9a64_5118a6b423c8row0_col3\" class=\"data row0 col3\" >Develop Method</td>\n",
       "                        <td id=\"T_aed5332c_6c91_11ea_9a64_5118a6b423c8row0_col4\" class=\"data row0 col4\" >Experiment</td>\n",
       "                        <td id=\"T_aed5332c_6c91_11ea_9a64_5118a6b423c8row0_col5\" class=\"data row0 col5\" >Submit</td>\n",
       "                        <td id=\"T_aed5332c_6c91_11ea_9a64_5118a6b423c8row0_col6\" class=\"data row0 col6\" >Evaluate</td>\n",
       "                        <td id=\"T_aed5332c_6c91_11ea_9a64_5118a6b423c8row0_col7\" class=\"data row0 col7\" >Conclude</td>\n",
       "                        <td id=\"T_aed5332c_6c91_11ea_9a64_5118a6b423c8row0_col8\" class=\"data row0 col8\" >»</td>\n",
       "                        <td id=\"T_aed5332c_6c91_11ea_9a64_5118a6b423c8row0_col9\" class=\"data row0 col9\" >Review</td>\n",
       "                        <td id=\"T_aed5332c_6c91_11ea_9a64_5118a6b423c8row0_col10\" class=\"data row0 col10\" >Minor Revision</td>\n",
       "                        <td id=\"T_aed5332c_6c91_11ea_9a64_5118a6b423c8row0_col11\" class=\"data row0 col11\" >Revise</td>\n",
       "                        <td id=\"T_aed5332c_6c91_11ea_9a64_5118a6b423c8row0_col12\" class=\"data row0 col12\" >Submit</td>\n",
       "                        <td id=\"T_aed5332c_6c91_11ea_9a64_5118a6b423c8row0_col13\" class=\"data row0 col13\" >Final Decision</td>\n",
       "                        <td id=\"T_aed5332c_6c91_11ea_9a64_5118a6b423c8row0_col14\" class=\"data row0 col14\" >■</td>\n",
       "            </tr>\n",
       "            <tr>\n",
       "                                <td id=\"T_aed5332c_6c91_11ea_9a64_5118a6b423c8row1_col0\" class=\"data row1 col0\" >▶</td>\n",
       "                        <td id=\"T_aed5332c_6c91_11ea_9a64_5118a6b423c8row1_col1\" class=\"data row1 col1\" >Identify Problem</td>\n",
       "                        <td id=\"T_aed5332c_6c91_11ea_9a64_5118a6b423c8row1_col2\" class=\"data row1 col2\" >Research Related Work</td>\n",
       "                        <td id=\"T_aed5332c_6c91_11ea_9a64_5118a6b423c8row1_col3\" class=\"data row1 col3\" >Develop Method</td>\n",
       "                        <td id=\"T_aed5332c_6c91_11ea_9a64_5118a6b423c8row1_col4\" class=\"data row1 col4\" >Experiment</td>\n",
       "                        <td id=\"T_aed5332c_6c91_11ea_9a64_5118a6b423c8row1_col5\" class=\"data row1 col5\" >»</td>\n",
       "                        <td id=\"T_aed5332c_6c91_11ea_9a64_5118a6b423c8row1_col6\" class=\"data row1 col6\" >Evaluate</td>\n",
       "                        <td id=\"T_aed5332c_6c91_11ea_9a64_5118a6b423c8row1_col7\" class=\"data row1 col7\" >Conclude</td>\n",
       "                        <td id=\"T_aed5332c_6c91_11ea_9a64_5118a6b423c8row1_col8\" class=\"data row1 col8\" >Submit</td>\n",
       "                        <td id=\"T_aed5332c_6c91_11ea_9a64_5118a6b423c8row1_col9\" class=\"data row1 col9\" >Review</td>\n",
       "                        <td id=\"T_aed5332c_6c91_11ea_9a64_5118a6b423c8row1_col10\" class=\"data row1 col10\" >Minor Revision</td>\n",
       "                        <td id=\"T_aed5332c_6c91_11ea_9a64_5118a6b423c8row1_col11\" class=\"data row1 col11\" >Revise</td>\n",
       "                        <td id=\"T_aed5332c_6c91_11ea_9a64_5118a6b423c8row1_col12\" class=\"data row1 col12\" >Submit</td>\n",
       "                        <td id=\"T_aed5332c_6c91_11ea_9a64_5118a6b423c8row1_col13\" class=\"data row1 col13\" >»</td>\n",
       "                        <td id=\"T_aed5332c_6c91_11ea_9a64_5118a6b423c8row1_col14\" class=\"data row1 col14\" >■</td>\n",
       "            </tr>\n",
       "    </tbody></table>"
      ],
      "text/plain": [
       "<pandas.io.formats.style.Styler at 0x7fa09bce4828>"
      ]
     },
     "metadata": {},
     "output_type": "display_data"
    },
    {
     "name": "stdout",
     "output_type": "stream",
     "text": [
      "Normal\n"
     ]
    },
    {
     "data": {
      "text/html": [
       "<style  type=\"text/css\" >\n",
       "</style><table id=\"T_aed5e042_6c91_11ea_9a64_5118a6b423c8\" ><thead>    <tr>        <th class=\"col_heading level0 col0\" >0</th>        <th class=\"col_heading level0 col1\" >1</th>        <th class=\"col_heading level0 col2\" >2</th>        <th class=\"col_heading level0 col3\" >3</th>        <th class=\"col_heading level0 col4\" >4</th>        <th class=\"col_heading level0 col5\" >5</th>        <th class=\"col_heading level0 col6\" >6</th>        <th class=\"col_heading level0 col7\" >7</th>        <th class=\"col_heading level0 col8\" >8</th>        <th class=\"col_heading level0 col9\" >9</th>        <th class=\"col_heading level0 col10\" >10</th>        <th class=\"col_heading level0 col11\" >11</th>        <th class=\"col_heading level0 col12\" >12</th>        <th class=\"col_heading level0 col13\" >13</th>    </tr></thead><tbody>\n",
       "                <tr>\n",
       "                                <td id=\"T_aed5e042_6c91_11ea_9a64_5118a6b423c8row0_col0\" class=\"data row0 col0\" >▶</td>\n",
       "                        <td id=\"T_aed5e042_6c91_11ea_9a64_5118a6b423c8row0_col1\" class=\"data row0 col1\" >Identify Problem</td>\n",
       "                        <td id=\"T_aed5e042_6c91_11ea_9a64_5118a6b423c8row0_col2\" class=\"data row0 col2\" >Research Related Work</td>\n",
       "                        <td id=\"T_aed5e042_6c91_11ea_9a64_5118a6b423c8row0_col3\" class=\"data row0 col3\" >Develop Method</td>\n",
       "                        <td id=\"T_aed5e042_6c91_11ea_9a64_5118a6b423c8row0_col4\" class=\"data row0 col4\" >Experiment</td>\n",
       "                        <td id=\"T_aed5e042_6c91_11ea_9a64_5118a6b423c8row0_col5\" class=\"data row0 col5\" >Evaluate</td>\n",
       "                        <td id=\"T_aed5e042_6c91_11ea_9a64_5118a6b423c8row0_col6\" class=\"data row0 col6\" >Conclude</td>\n",
       "                        <td id=\"T_aed5e042_6c91_11ea_9a64_5118a6b423c8row0_col7\" class=\"data row0 col7\" >Submit</td>\n",
       "                        <td id=\"T_aed5e042_6c91_11ea_9a64_5118a6b423c8row0_col8\" class=\"data row0 col8\" >Review</td>\n",
       "                        <td id=\"T_aed5e042_6c91_11ea_9a64_5118a6b423c8row0_col9\" class=\"data row0 col9\" >Minor Revision</td>\n",
       "                        <td id=\"T_aed5e042_6c91_11ea_9a64_5118a6b423c8row0_col10\" class=\"data row0 col10\" >Revise</td>\n",
       "                        <td id=\"T_aed5e042_6c91_11ea_9a64_5118a6b423c8row0_col11\" class=\"data row0 col11\" >Submit</td>\n",
       "                        <td id=\"T_aed5e042_6c91_11ea_9a64_5118a6b423c8row0_col12\" class=\"data row0 col12\" >Final Decision</td>\n",
       "                        <td id=\"T_aed5e042_6c91_11ea_9a64_5118a6b423c8row0_col13\" class=\"data row0 col13\" >■</td>\n",
       "            </tr>\n",
       "            <tr>\n",
       "                                <td id=\"T_aed5e042_6c91_11ea_9a64_5118a6b423c8row1_col0\" class=\"data row1 col0\" >▶</td>\n",
       "                        <td id=\"T_aed5e042_6c91_11ea_9a64_5118a6b423c8row1_col1\" class=\"data row1 col1\" >Identify Problem</td>\n",
       "                        <td id=\"T_aed5e042_6c91_11ea_9a64_5118a6b423c8row1_col2\" class=\"data row1 col2\" >Research Related Work</td>\n",
       "                        <td id=\"T_aed5e042_6c91_11ea_9a64_5118a6b423c8row1_col3\" class=\"data row1 col3\" >Develop Method</td>\n",
       "                        <td id=\"T_aed5e042_6c91_11ea_9a64_5118a6b423c8row1_col4\" class=\"data row1 col4\" >Experiment</td>\n",
       "                        <td id=\"T_aed5e042_6c91_11ea_9a64_5118a6b423c8row1_col5\" class=\"data row1 col5\" >Evaluate</td>\n",
       "                        <td id=\"T_aed5e042_6c91_11ea_9a64_5118a6b423c8row1_col6\" class=\"data row1 col6\" >Conclude</td>\n",
       "                        <td id=\"T_aed5e042_6c91_11ea_9a64_5118a6b423c8row1_col7\" class=\"data row1 col7\" >Submit</td>\n",
       "                        <td id=\"T_aed5e042_6c91_11ea_9a64_5118a6b423c8row1_col8\" class=\"data row1 col8\" >Review</td>\n",
       "                        <td id=\"T_aed5e042_6c91_11ea_9a64_5118a6b423c8row1_col9\" class=\"data row1 col9\" >Minor Revision</td>\n",
       "                        <td id=\"T_aed5e042_6c91_11ea_9a64_5118a6b423c8row1_col10\" class=\"data row1 col10\" >Revise</td>\n",
       "                        <td id=\"T_aed5e042_6c91_11ea_9a64_5118a6b423c8row1_col11\" class=\"data row1 col11\" >Submit</td>\n",
       "                        <td id=\"T_aed5e042_6c91_11ea_9a64_5118a6b423c8row1_col12\" class=\"data row1 col12\" >»</td>\n",
       "                        <td id=\"T_aed5e042_6c91_11ea_9a64_5118a6b423c8row1_col13\" class=\"data row1 col13\" >■</td>\n",
       "            </tr>\n",
       "    </tbody></table>"
      ],
      "text/plain": [
       "<pandas.io.formats.style.Styler at 0x7fa0b542e0b8>"
      ]
     },
     "metadata": {},
     "output_type": "display_data"
    },
    {
     "name": "stdout",
     "output_type": "stream",
     "text": [
      "Late\n"
     ]
    },
    {
     "data": {
      "text/html": [
       "<style  type=\"text/css\" >\n",
       "</style><table id=\"T_aed66d50_6c91_11ea_9a64_5118a6b423c8\" ><thead>    <tr>        <th class=\"col_heading level0 col0\" >0</th>        <th class=\"col_heading level0 col1\" >1</th>        <th class=\"col_heading level0 col2\" >2</th>        <th class=\"col_heading level0 col3\" >3</th>        <th class=\"col_heading level0 col4\" >4</th>        <th class=\"col_heading level0 col5\" >5</th>        <th class=\"col_heading level0 col6\" >6</th>        <th class=\"col_heading level0 col7\" >7</th>        <th class=\"col_heading level0 col8\" >8</th>        <th class=\"col_heading level0 col9\" >9</th>        <th class=\"col_heading level0 col10\" >10</th>        <th class=\"col_heading level0 col11\" >11</th>        <th class=\"col_heading level0 col12\" >12</th>        <th class=\"col_heading level0 col13\" >13</th>        <th class=\"col_heading level0 col14\" >14</th>    </tr></thead><tbody>\n",
       "                <tr>\n",
       "                                <td id=\"T_aed66d50_6c91_11ea_9a64_5118a6b423c8row0_col0\" class=\"data row0 col0\" >▶</td>\n",
       "                        <td id=\"T_aed66d50_6c91_11ea_9a64_5118a6b423c8row0_col1\" class=\"data row0 col1\" >Identify Problem</td>\n",
       "                        <td id=\"T_aed66d50_6c91_11ea_9a64_5118a6b423c8row0_col2\" class=\"data row0 col2\" >Experiment</td>\n",
       "                        <td id=\"T_aed66d50_6c91_11ea_9a64_5118a6b423c8row0_col3\" class=\"data row0 col3\" >Research Related Work</td>\n",
       "                        <td id=\"T_aed66d50_6c91_11ea_9a64_5118a6b423c8row0_col4\" class=\"data row0 col4\" >Develop Method</td>\n",
       "                        <td id=\"T_aed66d50_6c91_11ea_9a64_5118a6b423c8row0_col5\" class=\"data row0 col5\" >»</td>\n",
       "                        <td id=\"T_aed66d50_6c91_11ea_9a64_5118a6b423c8row0_col6\" class=\"data row0 col6\" >Evaluate</td>\n",
       "                        <td id=\"T_aed66d50_6c91_11ea_9a64_5118a6b423c8row0_col7\" class=\"data row0 col7\" >Conclude</td>\n",
       "                        <td id=\"T_aed66d50_6c91_11ea_9a64_5118a6b423c8row0_col8\" class=\"data row0 col8\" >Submit</td>\n",
       "                        <td id=\"T_aed66d50_6c91_11ea_9a64_5118a6b423c8row0_col9\" class=\"data row0 col9\" >Review</td>\n",
       "                        <td id=\"T_aed66d50_6c91_11ea_9a64_5118a6b423c8row0_col10\" class=\"data row0 col10\" >Minor Revision</td>\n",
       "                        <td id=\"T_aed66d50_6c91_11ea_9a64_5118a6b423c8row0_col11\" class=\"data row0 col11\" >Revise</td>\n",
       "                        <td id=\"T_aed66d50_6c91_11ea_9a64_5118a6b423c8row0_col12\" class=\"data row0 col12\" >Submit</td>\n",
       "                        <td id=\"T_aed66d50_6c91_11ea_9a64_5118a6b423c8row0_col13\" class=\"data row0 col13\" >Final Decision</td>\n",
       "                        <td id=\"T_aed66d50_6c91_11ea_9a64_5118a6b423c8row0_col14\" class=\"data row0 col14\" >■</td>\n",
       "            </tr>\n",
       "            <tr>\n",
       "                                <td id=\"T_aed66d50_6c91_11ea_9a64_5118a6b423c8row1_col0\" class=\"data row1 col0\" >▶</td>\n",
       "                        <td id=\"T_aed66d50_6c91_11ea_9a64_5118a6b423c8row1_col1\" class=\"data row1 col1\" >Identify Problem</td>\n",
       "                        <td id=\"T_aed66d50_6c91_11ea_9a64_5118a6b423c8row1_col2\" class=\"data row1 col2\" >»</td>\n",
       "                        <td id=\"T_aed66d50_6c91_11ea_9a64_5118a6b423c8row1_col3\" class=\"data row1 col3\" >Research Related Work</td>\n",
       "                        <td id=\"T_aed66d50_6c91_11ea_9a64_5118a6b423c8row1_col4\" class=\"data row1 col4\" >Develop Method</td>\n",
       "                        <td id=\"T_aed66d50_6c91_11ea_9a64_5118a6b423c8row1_col5\" class=\"data row1 col5\" >Experiment</td>\n",
       "                        <td id=\"T_aed66d50_6c91_11ea_9a64_5118a6b423c8row1_col6\" class=\"data row1 col6\" >Evaluate</td>\n",
       "                        <td id=\"T_aed66d50_6c91_11ea_9a64_5118a6b423c8row1_col7\" class=\"data row1 col7\" >Conclude</td>\n",
       "                        <td id=\"T_aed66d50_6c91_11ea_9a64_5118a6b423c8row1_col8\" class=\"data row1 col8\" >Submit</td>\n",
       "                        <td id=\"T_aed66d50_6c91_11ea_9a64_5118a6b423c8row1_col9\" class=\"data row1 col9\" >Review</td>\n",
       "                        <td id=\"T_aed66d50_6c91_11ea_9a64_5118a6b423c8row1_col10\" class=\"data row1 col10\" >Minor Revision</td>\n",
       "                        <td id=\"T_aed66d50_6c91_11ea_9a64_5118a6b423c8row1_col11\" class=\"data row1 col11\" >Revise</td>\n",
       "                        <td id=\"T_aed66d50_6c91_11ea_9a64_5118a6b423c8row1_col12\" class=\"data row1 col12\" >Submit</td>\n",
       "                        <td id=\"T_aed66d50_6c91_11ea_9a64_5118a6b423c8row1_col13\" class=\"data row1 col13\" >»</td>\n",
       "                        <td id=\"T_aed66d50_6c91_11ea_9a64_5118a6b423c8row1_col14\" class=\"data row1 col14\" >■</td>\n",
       "            </tr>\n",
       "    </tbody></table>"
      ],
      "text/plain": [
       "<pandas.io.formats.style.Styler at 0x7fa0dc598978>"
      ]
     },
     "metadata": {},
     "output_type": "display_data"
    },
    {
     "name": "stdout",
     "output_type": "stream",
     "text": [
      "Attribute\n"
     ]
    },
    {
     "data": {
      "text/html": [
       "<style  type=\"text/css\" >\n",
       "</style><table id=\"T_aed71002_6c91_11ea_9a64_5118a6b423c8\" ><thead>    <tr>        <th class=\"col_heading level0 col0\" >0</th>        <th class=\"col_heading level0 col1\" >1</th>        <th class=\"col_heading level0 col2\" >2</th>        <th class=\"col_heading level0 col3\" >3</th>        <th class=\"col_heading level0 col4\" >4</th>        <th class=\"col_heading level0 col5\" >5</th>        <th class=\"col_heading level0 col6\" >6</th>        <th class=\"col_heading level0 col7\" >7</th>        <th class=\"col_heading level0 col8\" >8</th>        <th class=\"col_heading level0 col9\" >9</th>        <th class=\"col_heading level0 col10\" >10</th>        <th class=\"col_heading level0 col11\" >11</th>        <th class=\"col_heading level0 col12\" >12</th>        <th class=\"col_heading level0 col13\" >13</th>    </tr></thead><tbody>\n",
       "                <tr>\n",
       "                                <td id=\"T_aed71002_6c91_11ea_9a64_5118a6b423c8row0_col0\" class=\"data row0 col0\" >▶</td>\n",
       "                        <td id=\"T_aed71002_6c91_11ea_9a64_5118a6b423c8row0_col1\" class=\"data row0 col1\" >Identify Problem</td>\n",
       "                        <td id=\"T_aed71002_6c91_11ea_9a64_5118a6b423c8row0_col2\" class=\"data row0 col2\" >Research Related Work</td>\n",
       "                        <td id=\"T_aed71002_6c91_11ea_9a64_5118a6b423c8row0_col3\" class=\"data row0 col3\" >Develop Method</td>\n",
       "                        <td id=\"T_aed71002_6c91_11ea_9a64_5118a6b423c8row0_col4\" class=\"data row0 col4\" >Experiment</td>\n",
       "                        <td id=\"T_aed71002_6c91_11ea_9a64_5118a6b423c8row0_col5\" class=\"data row0 col5\" >Evaluate</td>\n",
       "                        <td id=\"T_aed71002_6c91_11ea_9a64_5118a6b423c8row0_col6\" class=\"data row0 col6\" >Conclude</td>\n",
       "                        <td id=\"T_aed71002_6c91_11ea_9a64_5118a6b423c8row0_col7\" class=\"data row0 col7\" >Submit</td>\n",
       "                        <td id=\"T_aed71002_6c91_11ea_9a64_5118a6b423c8row0_col8\" class=\"data row0 col8\" >Review</td>\n",
       "                        <td id=\"T_aed71002_6c91_11ea_9a64_5118a6b423c8row0_col9\" class=\"data row0 col9\" >Minor Revision</td>\n",
       "                        <td id=\"T_aed71002_6c91_11ea_9a64_5118a6b423c8row0_col10\" class=\"data row0 col10\" >Revise</td>\n",
       "                        <td id=\"T_aed71002_6c91_11ea_9a64_5118a6b423c8row0_col11\" class=\"data row0 col11\" >Submit</td>\n",
       "                        <td id=\"T_aed71002_6c91_11ea_9a64_5118a6b423c8row0_col12\" class=\"data row0 col12\" >Final Decision</td>\n",
       "                        <td id=\"T_aed71002_6c91_11ea_9a64_5118a6b423c8row0_col13\" class=\"data row0 col13\" >■</td>\n",
       "            </tr>\n",
       "            <tr>\n",
       "                                <td id=\"T_aed71002_6c91_11ea_9a64_5118a6b423c8row1_col0\" class=\"data row1 col0\" >▶</td>\n",
       "                        <td id=\"T_aed71002_6c91_11ea_9a64_5118a6b423c8row1_col1\" class=\"data row1 col1\" >Identify Problem</td>\n",
       "                        <td id=\"T_aed71002_6c91_11ea_9a64_5118a6b423c8row1_col2\" class=\"data row1 col2\" >Research Related Work</td>\n",
       "                        <td id=\"T_aed71002_6c91_11ea_9a64_5118a6b423c8row1_col3\" class=\"data row1 col3\" >Develop Method</td>\n",
       "                        <td id=\"T_aed71002_6c91_11ea_9a64_5118a6b423c8row1_col4\" class=\"data row1 col4\" >Experiment</td>\n",
       "                        <td id=\"T_aed71002_6c91_11ea_9a64_5118a6b423c8row1_col5\" class=\"data row1 col5\" >Evaluate</td>\n",
       "                        <td id=\"T_aed71002_6c91_11ea_9a64_5118a6b423c8row1_col6\" class=\"data row1 col6\" >Conclude</td>\n",
       "                        <td id=\"T_aed71002_6c91_11ea_9a64_5118a6b423c8row1_col7\" class=\"data row1 col7\" >Submit</td>\n",
       "                        <td id=\"T_aed71002_6c91_11ea_9a64_5118a6b423c8row1_col8\" class=\"data row1 col8\" >Review</td>\n",
       "                        <td id=\"T_aed71002_6c91_11ea_9a64_5118a6b423c8row1_col9\" class=\"data row1 col9\" >Minor Revision</td>\n",
       "                        <td id=\"T_aed71002_6c91_11ea_9a64_5118a6b423c8row1_col10\" class=\"data row1 col10\" >Revise</td>\n",
       "                        <td id=\"T_aed71002_6c91_11ea_9a64_5118a6b423c8row1_col11\" class=\"data row1 col11\" >Submit</td>\n",
       "                        <td id=\"T_aed71002_6c91_11ea_9a64_5118a6b423c8row1_col12\" class=\"data row1 col12\" >»</td>\n",
       "                        <td id=\"T_aed71002_6c91_11ea_9a64_5118a6b423c8row1_col13\" class=\"data row1 col13\" >■</td>\n",
       "            </tr>\n",
       "    </tbody></table>"
      ],
      "text/plain": [
       "<pandas.io.formats.style.Styler at 0x7fa0b542e898>"
      ]
     },
     "metadata": {},
     "output_type": "display_data"
    },
    {
     "name": "stdout",
     "output_type": "stream",
     "text": [
      "Insert\n"
     ]
    },
    {
     "data": {
      "text/html": [
       "<style  type=\"text/css\" >\n",
       "</style><table id=\"T_aed7a756_6c91_11ea_9a64_5118a6b423c8\" ><thead>    <tr>        <th class=\"col_heading level0 col0\" >0</th>        <th class=\"col_heading level0 col1\" >1</th>        <th class=\"col_heading level0 col2\" >2</th>        <th class=\"col_heading level0 col3\" >3</th>        <th class=\"col_heading level0 col4\" >4</th>        <th class=\"col_heading level0 col5\" >5</th>        <th class=\"col_heading level0 col6\" >6</th>        <th class=\"col_heading level0 col7\" >7</th>        <th class=\"col_heading level0 col8\" >8</th>        <th class=\"col_heading level0 col9\" >9</th>        <th class=\"col_heading level0 col10\" >10</th>        <th class=\"col_heading level0 col11\" >11</th>        <th class=\"col_heading level0 col12\" >12</th>        <th class=\"col_heading level0 col13\" >13</th>        <th class=\"col_heading level0 col14\" >14</th>        <th class=\"col_heading level0 col15\" >15</th>    </tr></thead><tbody>\n",
       "                <tr>\n",
       "                                <td id=\"T_aed7a756_6c91_11ea_9a64_5118a6b423c8row0_col0\" class=\"data row0 col0\" >▶</td>\n",
       "                        <td id=\"T_aed7a756_6c91_11ea_9a64_5118a6b423c8row0_col1\" class=\"data row0 col1\" >Identify Problem</td>\n",
       "                        <td id=\"T_aed7a756_6c91_11ea_9a64_5118a6b423c8row0_col2\" class=\"data row0 col2\" >Research Related Work</td>\n",
       "                        <td id=\"T_aed7a756_6c91_11ea_9a64_5118a6b423c8row0_col3\" class=\"data row0 col3\" >Random activity 10</td>\n",
       "                        <td id=\"T_aed7a756_6c91_11ea_9a64_5118a6b423c8row0_col4\" class=\"data row0 col4\" >Develop Method</td>\n",
       "                        <td id=\"T_aed7a756_6c91_11ea_9a64_5118a6b423c8row0_col5\" class=\"data row0 col5\" >Experiment</td>\n",
       "                        <td id=\"T_aed7a756_6c91_11ea_9a64_5118a6b423c8row0_col6\" class=\"data row0 col6\" >Evaluate</td>\n",
       "                        <td id=\"T_aed7a756_6c91_11ea_9a64_5118a6b423c8row0_col7\" class=\"data row0 col7\" >Conclude</td>\n",
       "                        <td id=\"T_aed7a756_6c91_11ea_9a64_5118a6b423c8row0_col8\" class=\"data row0 col8\" >Random activity 12</td>\n",
       "                        <td id=\"T_aed7a756_6c91_11ea_9a64_5118a6b423c8row0_col9\" class=\"data row0 col9\" >Submit</td>\n",
       "                        <td id=\"T_aed7a756_6c91_11ea_9a64_5118a6b423c8row0_col10\" class=\"data row0 col10\" >Review</td>\n",
       "                        <td id=\"T_aed7a756_6c91_11ea_9a64_5118a6b423c8row0_col11\" class=\"data row0 col11\" >Minor Revision</td>\n",
       "                        <td id=\"T_aed7a756_6c91_11ea_9a64_5118a6b423c8row0_col12\" class=\"data row0 col12\" >Revise</td>\n",
       "                        <td id=\"T_aed7a756_6c91_11ea_9a64_5118a6b423c8row0_col13\" class=\"data row0 col13\" >Submit</td>\n",
       "                        <td id=\"T_aed7a756_6c91_11ea_9a64_5118a6b423c8row0_col14\" class=\"data row0 col14\" >Final Decision</td>\n",
       "                        <td id=\"T_aed7a756_6c91_11ea_9a64_5118a6b423c8row0_col15\" class=\"data row0 col15\" >■</td>\n",
       "            </tr>\n",
       "            <tr>\n",
       "                                <td id=\"T_aed7a756_6c91_11ea_9a64_5118a6b423c8row1_col0\" class=\"data row1 col0\" >▶</td>\n",
       "                        <td id=\"T_aed7a756_6c91_11ea_9a64_5118a6b423c8row1_col1\" class=\"data row1 col1\" >Identify Problem</td>\n",
       "                        <td id=\"T_aed7a756_6c91_11ea_9a64_5118a6b423c8row1_col2\" class=\"data row1 col2\" >Research Related Work</td>\n",
       "                        <td id=\"T_aed7a756_6c91_11ea_9a64_5118a6b423c8row1_col3\" class=\"data row1 col3\" >»</td>\n",
       "                        <td id=\"T_aed7a756_6c91_11ea_9a64_5118a6b423c8row1_col4\" class=\"data row1 col4\" >Develop Method</td>\n",
       "                        <td id=\"T_aed7a756_6c91_11ea_9a64_5118a6b423c8row1_col5\" class=\"data row1 col5\" >Experiment</td>\n",
       "                        <td id=\"T_aed7a756_6c91_11ea_9a64_5118a6b423c8row1_col6\" class=\"data row1 col6\" >Evaluate</td>\n",
       "                        <td id=\"T_aed7a756_6c91_11ea_9a64_5118a6b423c8row1_col7\" class=\"data row1 col7\" >Conclude</td>\n",
       "                        <td id=\"T_aed7a756_6c91_11ea_9a64_5118a6b423c8row1_col8\" class=\"data row1 col8\" >»</td>\n",
       "                        <td id=\"T_aed7a756_6c91_11ea_9a64_5118a6b423c8row1_col9\" class=\"data row1 col9\" >Submit</td>\n",
       "                        <td id=\"T_aed7a756_6c91_11ea_9a64_5118a6b423c8row1_col10\" class=\"data row1 col10\" >Review</td>\n",
       "                        <td id=\"T_aed7a756_6c91_11ea_9a64_5118a6b423c8row1_col11\" class=\"data row1 col11\" >Minor Revision</td>\n",
       "                        <td id=\"T_aed7a756_6c91_11ea_9a64_5118a6b423c8row1_col12\" class=\"data row1 col12\" >Revise</td>\n",
       "                        <td id=\"T_aed7a756_6c91_11ea_9a64_5118a6b423c8row1_col13\" class=\"data row1 col13\" >Submit</td>\n",
       "                        <td id=\"T_aed7a756_6c91_11ea_9a64_5118a6b423c8row1_col14\" class=\"data row1 col14\" >»</td>\n",
       "                        <td id=\"T_aed7a756_6c91_11ea_9a64_5118a6b423c8row1_col15\" class=\"data row1 col15\" >■</td>\n",
       "            </tr>\n",
       "    </tbody></table>"
      ],
      "text/plain": [
       "<pandas.io.formats.style.Styler at 0x7fa09bce4358>"
      ]
     },
     "metadata": {},
     "output_type": "display_data"
    },
    {
     "name": "stdout",
     "output_type": "stream",
     "text": [
      "Rework\n"
     ]
    },
    {
     "data": {
      "text/html": [
       "<style  type=\"text/css\" >\n",
       "</style><table id=\"T_aed84e9a_6c91_11ea_9a64_5118a6b423c8\" ><thead>    <tr>        <th class=\"col_heading level0 col0\" >0</th>        <th class=\"col_heading level0 col1\" >1</th>        <th class=\"col_heading level0 col2\" >2</th>        <th class=\"col_heading level0 col3\" >3</th>        <th class=\"col_heading level0 col4\" >4</th>        <th class=\"col_heading level0 col5\" >5</th>        <th class=\"col_heading level0 col6\" >6</th>        <th class=\"col_heading level0 col7\" >7</th>        <th class=\"col_heading level0 col8\" >8</th>        <th class=\"col_heading level0 col9\" >9</th>        <th class=\"col_heading level0 col10\" >10</th>        <th class=\"col_heading level0 col11\" >11</th>        <th class=\"col_heading level0 col12\" >12</th>        <th class=\"col_heading level0 col13\" >13</th>        <th class=\"col_heading level0 col14\" >14</th>        <th class=\"col_heading level0 col15\" >15</th>    </tr></thead><tbody>\n",
       "                <tr>\n",
       "                                <td id=\"T_aed84e9a_6c91_11ea_9a64_5118a6b423c8row0_col0\" class=\"data row0 col0\" >▶</td>\n",
       "                        <td id=\"T_aed84e9a_6c91_11ea_9a64_5118a6b423c8row0_col1\" class=\"data row0 col1\" >Identify Problem</td>\n",
       "                        <td id=\"T_aed84e9a_6c91_11ea_9a64_5118a6b423c8row0_col2\" class=\"data row0 col2\" >Research Related Work</td>\n",
       "                        <td id=\"T_aed84e9a_6c91_11ea_9a64_5118a6b423c8row0_col3\" class=\"data row0 col3\" >Develop Hypothesis</td>\n",
       "                        <td id=\"T_aed84e9a_6c91_11ea_9a64_5118a6b423c8row0_col4\" class=\"data row0 col4\" >Experiment</td>\n",
       "                        <td id=\"T_aed84e9a_6c91_11ea_9a64_5118a6b423c8row0_col5\" class=\"data row0 col5\" >Conduct Study</td>\n",
       "                        <td id=\"T_aed84e9a_6c91_11ea_9a64_5118a6b423c8row0_col6\" class=\"data row0 col6\" >Conclude</td>\n",
       "                        <td id=\"T_aed84e9a_6c91_11ea_9a64_5118a6b423c8row0_col7\" class=\"data row0 col7\" >Submit</td>\n",
       "                        <td id=\"T_aed84e9a_6c91_11ea_9a64_5118a6b423c8row0_col8\" class=\"data row0 col8\" >Review</td>\n",
       "                        <td id=\"T_aed84e9a_6c91_11ea_9a64_5118a6b423c8row0_col9\" class=\"data row0 col9\" >Minor Revision</td>\n",
       "                        <td id=\"T_aed84e9a_6c91_11ea_9a64_5118a6b423c8row0_col10\" class=\"data row0 col10\" >Revise</td>\n",
       "                        <td id=\"T_aed84e9a_6c91_11ea_9a64_5118a6b423c8row0_col11\" class=\"data row0 col11\" >Submit</td>\n",
       "                        <td id=\"T_aed84e9a_6c91_11ea_9a64_5118a6b423c8row0_col12\" class=\"data row0 col12\" >Final Decision</td>\n",
       "                        <td id=\"T_aed84e9a_6c91_11ea_9a64_5118a6b423c8row0_col13\" class=\"data row0 col13\" >Submit</td>\n",
       "                        <td id=\"T_aed84e9a_6c91_11ea_9a64_5118a6b423c8row0_col14\" class=\"data row0 col14\" >Final Decision</td>\n",
       "                        <td id=\"T_aed84e9a_6c91_11ea_9a64_5118a6b423c8row0_col15\" class=\"data row0 col15\" >■</td>\n",
       "            </tr>\n",
       "            <tr>\n",
       "                                <td id=\"T_aed84e9a_6c91_11ea_9a64_5118a6b423c8row1_col0\" class=\"data row1 col0\" >▶</td>\n",
       "                        <td id=\"T_aed84e9a_6c91_11ea_9a64_5118a6b423c8row1_col1\" class=\"data row1 col1\" >Identify Problem</td>\n",
       "                        <td id=\"T_aed84e9a_6c91_11ea_9a64_5118a6b423c8row1_col2\" class=\"data row1 col2\" >Research Related Work</td>\n",
       "                        <td id=\"T_aed84e9a_6c91_11ea_9a64_5118a6b423c8row1_col3\" class=\"data row1 col3\" >Develop Hypothesis</td>\n",
       "                        <td id=\"T_aed84e9a_6c91_11ea_9a64_5118a6b423c8row1_col4\" class=\"data row1 col4\" >Experiment</td>\n",
       "                        <td id=\"T_aed84e9a_6c91_11ea_9a64_5118a6b423c8row1_col5\" class=\"data row1 col5\" >Conduct Study</td>\n",
       "                        <td id=\"T_aed84e9a_6c91_11ea_9a64_5118a6b423c8row1_col6\" class=\"data row1 col6\" >Conclude</td>\n",
       "                        <td id=\"T_aed84e9a_6c91_11ea_9a64_5118a6b423c8row1_col7\" class=\"data row1 col7\" >Submit</td>\n",
       "                        <td id=\"T_aed84e9a_6c91_11ea_9a64_5118a6b423c8row1_col8\" class=\"data row1 col8\" >Review</td>\n",
       "                        <td id=\"T_aed84e9a_6c91_11ea_9a64_5118a6b423c8row1_col9\" class=\"data row1 col9\" >Minor Revision</td>\n",
       "                        <td id=\"T_aed84e9a_6c91_11ea_9a64_5118a6b423c8row1_col10\" class=\"data row1 col10\" >Revise</td>\n",
       "                        <td id=\"T_aed84e9a_6c91_11ea_9a64_5118a6b423c8row1_col11\" class=\"data row1 col11\" >»</td>\n",
       "                        <td id=\"T_aed84e9a_6c91_11ea_9a64_5118a6b423c8row1_col12\" class=\"data row1 col12\" >»</td>\n",
       "                        <td id=\"T_aed84e9a_6c91_11ea_9a64_5118a6b423c8row1_col13\" class=\"data row1 col13\" >Submit</td>\n",
       "                        <td id=\"T_aed84e9a_6c91_11ea_9a64_5118a6b423c8row1_col14\" class=\"data row1 col14\" >»</td>\n",
       "                        <td id=\"T_aed84e9a_6c91_11ea_9a64_5118a6b423c8row1_col15\" class=\"data row1 col15\" >■</td>\n",
       "            </tr>\n",
       "    </tbody></table>"
      ],
      "text/plain": [
       "<pandas.io.formats.style.Styler at 0x7fa0b542e5f8>"
      ]
     },
     "metadata": {},
     "output_type": "display_data"
    },
    {
     "name": "stdout",
     "output_type": "stream",
     "text": [
      "SkipSequence\n"
     ]
    },
    {
     "data": {
      "text/html": [
       "<style  type=\"text/css\" >\n",
       "</style><table id=\"T_aed902fe_6c91_11ea_9a64_5118a6b423c8\" ><thead>    <tr>        <th class=\"col_heading level0 col0\" >0</th>        <th class=\"col_heading level0 col1\" >1</th>        <th class=\"col_heading level0 col2\" >2</th>        <th class=\"col_heading level0 col3\" >3</th>        <th class=\"col_heading level0 col4\" >4</th>        <th class=\"col_heading level0 col5\" >5</th>        <th class=\"col_heading level0 col6\" >6</th>        <th class=\"col_heading level0 col7\" >7</th>        <th class=\"col_heading level0 col8\" >8</th>        <th class=\"col_heading level0 col9\" >9</th>        <th class=\"col_heading level0 col10\" >10</th>        <th class=\"col_heading level0 col11\" >11</th>    </tr></thead><tbody>\n",
       "                <tr>\n",
       "                                <td id=\"T_aed902fe_6c91_11ea_9a64_5118a6b423c8row0_col0\" class=\"data row0 col0\" >▶</td>\n",
       "                        <td id=\"T_aed902fe_6c91_11ea_9a64_5118a6b423c8row0_col1\" class=\"data row0 col1\" >Identify Problem</td>\n",
       "                        <td id=\"T_aed902fe_6c91_11ea_9a64_5118a6b423c8row0_col2\" class=\"data row0 col2\" >Experiment</td>\n",
       "                        <td id=\"T_aed902fe_6c91_11ea_9a64_5118a6b423c8row0_col3\" class=\"data row0 col3\" >Evaluate</td>\n",
       "                        <td id=\"T_aed902fe_6c91_11ea_9a64_5118a6b423c8row0_col4\" class=\"data row0 col4\" >Conclude</td>\n",
       "                        <td id=\"T_aed902fe_6c91_11ea_9a64_5118a6b423c8row0_col5\" class=\"data row0 col5\" >Submit</td>\n",
       "                        <td id=\"T_aed902fe_6c91_11ea_9a64_5118a6b423c8row0_col6\" class=\"data row0 col6\" >Review</td>\n",
       "                        <td id=\"T_aed902fe_6c91_11ea_9a64_5118a6b423c8row0_col7\" class=\"data row0 col7\" >Minor Revision</td>\n",
       "                        <td id=\"T_aed902fe_6c91_11ea_9a64_5118a6b423c8row0_col8\" class=\"data row0 col8\" >Revise</td>\n",
       "                        <td id=\"T_aed902fe_6c91_11ea_9a64_5118a6b423c8row0_col9\" class=\"data row0 col9\" >Submit</td>\n",
       "                        <td id=\"T_aed902fe_6c91_11ea_9a64_5118a6b423c8row0_col10\" class=\"data row0 col10\" >Final Decision</td>\n",
       "                        <td id=\"T_aed902fe_6c91_11ea_9a64_5118a6b423c8row0_col11\" class=\"data row0 col11\" >■</td>\n",
       "            </tr>\n",
       "            <tr>\n",
       "                                <td id=\"T_aed902fe_6c91_11ea_9a64_5118a6b423c8row1_col0\" class=\"data row1 col0\" >▶</td>\n",
       "                        <td id=\"T_aed902fe_6c91_11ea_9a64_5118a6b423c8row1_col1\" class=\"data row1 col1\" >»</td>\n",
       "                        <td id=\"T_aed902fe_6c91_11ea_9a64_5118a6b423c8row1_col2\" class=\"data row1 col2\" >Experiment</td>\n",
       "                        <td id=\"T_aed902fe_6c91_11ea_9a64_5118a6b423c8row1_col3\" class=\"data row1 col3\" >Evaluate</td>\n",
       "                        <td id=\"T_aed902fe_6c91_11ea_9a64_5118a6b423c8row1_col4\" class=\"data row1 col4\" >Conclude</td>\n",
       "                        <td id=\"T_aed902fe_6c91_11ea_9a64_5118a6b423c8row1_col5\" class=\"data row1 col5\" >Submit</td>\n",
       "                        <td id=\"T_aed902fe_6c91_11ea_9a64_5118a6b423c8row1_col6\" class=\"data row1 col6\" >Review</td>\n",
       "                        <td id=\"T_aed902fe_6c91_11ea_9a64_5118a6b423c8row1_col7\" class=\"data row1 col7\" >Minor Revision</td>\n",
       "                        <td id=\"T_aed902fe_6c91_11ea_9a64_5118a6b423c8row1_col8\" class=\"data row1 col8\" >Revise</td>\n",
       "                        <td id=\"T_aed902fe_6c91_11ea_9a64_5118a6b423c8row1_col9\" class=\"data row1 col9\" >Submit</td>\n",
       "                        <td id=\"T_aed902fe_6c91_11ea_9a64_5118a6b423c8row1_col10\" class=\"data row1 col10\" >»</td>\n",
       "                        <td id=\"T_aed902fe_6c91_11ea_9a64_5118a6b423c8row1_col11\" class=\"data row1 col11\" >■</td>\n",
       "            </tr>\n",
       "    </tbody></table>"
      ],
      "text/plain": [
       "<pandas.io.formats.style.Styler at 0x7fa09bce4da0>"
      ]
     },
     "metadata": {},
     "output_type": "display_data"
    }
   ],
   "source": [
    "for anomaly_type in set(dataset.text_labels):\n",
    "    index = np.where(dataset.text_labels == anomaly_type)[0][0] # Select the first one\n",
    "    print(anomaly_type)\n",
    "    display_alignment(alignments[index][0], decode=decode)"
   ]
  },
  {
   "cell_type": "markdown",
   "metadata": {},
   "source": [
    "## Ground Truth Alignments"
   ]
  },
  {
   "cell_type": "markdown",
   "metadata": {},
   "source": [
    "We can obtain the ground truth alignments from the `dataset` with the following method."
   ]
  },
  {
   "cell_type": "code",
   "execution_count": 18,
   "metadata": {},
   "outputs": [],
   "source": [
    "ground_truth_alignments, ground_truth_costs = dataset.alignments"
   ]
  },
  {
   "cell_type": "markdown",
   "metadata": {},
   "source": [
    "Let us check the ground truth for the example cases from above."
   ]
  },
  {
   "cell_type": "code",
   "execution_count": 19,
   "metadata": {},
   "outputs": [
    {
     "name": "stdout",
     "output_type": "stream",
     "text": [
      "Early\n"
     ]
    },
    {
     "data": {
      "text/html": [
       "<style  type=\"text/css\" >\n",
       "</style><table id=\"T_b4384bd8_6c91_11ea_9a64_5118a6b423c8\" ><thead>    <tr>        <th class=\"col_heading level0 col0\" >0</th>        <th class=\"col_heading level0 col1\" >1</th>        <th class=\"col_heading level0 col2\" >2</th>        <th class=\"col_heading level0 col3\" >3</th>        <th class=\"col_heading level0 col4\" >4</th>        <th class=\"col_heading level0 col5\" >5</th>        <th class=\"col_heading level0 col6\" >6</th>        <th class=\"col_heading level0 col7\" >7</th>        <th class=\"col_heading level0 col8\" >8</th>        <th class=\"col_heading level0 col9\" >9</th>        <th class=\"col_heading level0 col10\" >10</th>        <th class=\"col_heading level0 col11\" >11</th>        <th class=\"col_heading level0 col12\" >12</th>        <th class=\"col_heading level0 col13\" >13</th>        <th class=\"col_heading level0 col14\" >14</th>    </tr></thead><tbody>\n",
       "                <tr>\n",
       "                                <td id=\"T_b4384bd8_6c91_11ea_9a64_5118a6b423c8row0_col0\" class=\"data row0 col0\" >▶</td>\n",
       "                        <td id=\"T_b4384bd8_6c91_11ea_9a64_5118a6b423c8row0_col1\" class=\"data row0 col1\" >Identify Problem</td>\n",
       "                        <td id=\"T_b4384bd8_6c91_11ea_9a64_5118a6b423c8row0_col2\" class=\"data row0 col2\" >Research Related Work</td>\n",
       "                        <td id=\"T_b4384bd8_6c91_11ea_9a64_5118a6b423c8row0_col3\" class=\"data row0 col3\" >Develop Method</td>\n",
       "                        <td id=\"T_b4384bd8_6c91_11ea_9a64_5118a6b423c8row0_col4\" class=\"data row0 col4\" >Experiment</td>\n",
       "                        <td id=\"T_b4384bd8_6c91_11ea_9a64_5118a6b423c8row0_col5\" class=\"data row0 col5\" >Submit</td>\n",
       "                        <td id=\"T_b4384bd8_6c91_11ea_9a64_5118a6b423c8row0_col6\" class=\"data row0 col6\" >Evaluate</td>\n",
       "                        <td id=\"T_b4384bd8_6c91_11ea_9a64_5118a6b423c8row0_col7\" class=\"data row0 col7\" >Conclude</td>\n",
       "                        <td id=\"T_b4384bd8_6c91_11ea_9a64_5118a6b423c8row0_col8\" class=\"data row0 col8\" >»</td>\n",
       "                        <td id=\"T_b4384bd8_6c91_11ea_9a64_5118a6b423c8row0_col9\" class=\"data row0 col9\" >Review</td>\n",
       "                        <td id=\"T_b4384bd8_6c91_11ea_9a64_5118a6b423c8row0_col10\" class=\"data row0 col10\" >Minor Revision</td>\n",
       "                        <td id=\"T_b4384bd8_6c91_11ea_9a64_5118a6b423c8row0_col11\" class=\"data row0 col11\" >Revise</td>\n",
       "                        <td id=\"T_b4384bd8_6c91_11ea_9a64_5118a6b423c8row0_col12\" class=\"data row0 col12\" >Submit</td>\n",
       "                        <td id=\"T_b4384bd8_6c91_11ea_9a64_5118a6b423c8row0_col13\" class=\"data row0 col13\" >Final Decision</td>\n",
       "                        <td id=\"T_b4384bd8_6c91_11ea_9a64_5118a6b423c8row0_col14\" class=\"data row0 col14\" >■</td>\n",
       "            </tr>\n",
       "            <tr>\n",
       "                                <td id=\"T_b4384bd8_6c91_11ea_9a64_5118a6b423c8row1_col0\" class=\"data row1 col0\" >▶</td>\n",
       "                        <td id=\"T_b4384bd8_6c91_11ea_9a64_5118a6b423c8row1_col1\" class=\"data row1 col1\" >Identify Problem</td>\n",
       "                        <td id=\"T_b4384bd8_6c91_11ea_9a64_5118a6b423c8row1_col2\" class=\"data row1 col2\" >Research Related Work</td>\n",
       "                        <td id=\"T_b4384bd8_6c91_11ea_9a64_5118a6b423c8row1_col3\" class=\"data row1 col3\" >Develop Method</td>\n",
       "                        <td id=\"T_b4384bd8_6c91_11ea_9a64_5118a6b423c8row1_col4\" class=\"data row1 col4\" >Experiment</td>\n",
       "                        <td id=\"T_b4384bd8_6c91_11ea_9a64_5118a6b423c8row1_col5\" class=\"data row1 col5\" >»</td>\n",
       "                        <td id=\"T_b4384bd8_6c91_11ea_9a64_5118a6b423c8row1_col6\" class=\"data row1 col6\" >Evaluate</td>\n",
       "                        <td id=\"T_b4384bd8_6c91_11ea_9a64_5118a6b423c8row1_col7\" class=\"data row1 col7\" >Conclude</td>\n",
       "                        <td id=\"T_b4384bd8_6c91_11ea_9a64_5118a6b423c8row1_col8\" class=\"data row1 col8\" >Submit</td>\n",
       "                        <td id=\"T_b4384bd8_6c91_11ea_9a64_5118a6b423c8row1_col9\" class=\"data row1 col9\" >Review</td>\n",
       "                        <td id=\"T_b4384bd8_6c91_11ea_9a64_5118a6b423c8row1_col10\" class=\"data row1 col10\" >Minor Revision</td>\n",
       "                        <td id=\"T_b4384bd8_6c91_11ea_9a64_5118a6b423c8row1_col11\" class=\"data row1 col11\" >Revise</td>\n",
       "                        <td id=\"T_b4384bd8_6c91_11ea_9a64_5118a6b423c8row1_col12\" class=\"data row1 col12\" >Submit</td>\n",
       "                        <td id=\"T_b4384bd8_6c91_11ea_9a64_5118a6b423c8row1_col13\" class=\"data row1 col13\" >Final Decision</td>\n",
       "                        <td id=\"T_b4384bd8_6c91_11ea_9a64_5118a6b423c8row1_col14\" class=\"data row1 col14\" >■</td>\n",
       "            </tr>\n",
       "    </tbody></table>"
      ],
      "text/plain": [
       "<pandas.io.formats.style.Styler at 0x7fa0b542e160>"
      ]
     },
     "metadata": {},
     "output_type": "display_data"
    },
    {
     "name": "stdout",
     "output_type": "stream",
     "text": [
      "Normal\n"
     ]
    },
    {
     "data": {
      "text/html": [
       "<style  type=\"text/css\" >\n",
       "</style><table id=\"T_b438ec6e_6c91_11ea_9a64_5118a6b423c8\" ><thead>    <tr>        <th class=\"col_heading level0 col0\" >0</th>        <th class=\"col_heading level0 col1\" >1</th>        <th class=\"col_heading level0 col2\" >2</th>        <th class=\"col_heading level0 col3\" >3</th>        <th class=\"col_heading level0 col4\" >4</th>        <th class=\"col_heading level0 col5\" >5</th>        <th class=\"col_heading level0 col6\" >6</th>        <th class=\"col_heading level0 col7\" >7</th>        <th class=\"col_heading level0 col8\" >8</th>        <th class=\"col_heading level0 col9\" >9</th>        <th class=\"col_heading level0 col10\" >10</th>        <th class=\"col_heading level0 col11\" >11</th>        <th class=\"col_heading level0 col12\" >12</th>        <th class=\"col_heading level0 col13\" >13</th>    </tr></thead><tbody>\n",
       "                <tr>\n",
       "                                <td id=\"T_b438ec6e_6c91_11ea_9a64_5118a6b423c8row0_col0\" class=\"data row0 col0\" >▶</td>\n",
       "                        <td id=\"T_b438ec6e_6c91_11ea_9a64_5118a6b423c8row0_col1\" class=\"data row0 col1\" >Identify Problem</td>\n",
       "                        <td id=\"T_b438ec6e_6c91_11ea_9a64_5118a6b423c8row0_col2\" class=\"data row0 col2\" >Research Related Work</td>\n",
       "                        <td id=\"T_b438ec6e_6c91_11ea_9a64_5118a6b423c8row0_col3\" class=\"data row0 col3\" >Develop Method</td>\n",
       "                        <td id=\"T_b438ec6e_6c91_11ea_9a64_5118a6b423c8row0_col4\" class=\"data row0 col4\" >Experiment</td>\n",
       "                        <td id=\"T_b438ec6e_6c91_11ea_9a64_5118a6b423c8row0_col5\" class=\"data row0 col5\" >Evaluate</td>\n",
       "                        <td id=\"T_b438ec6e_6c91_11ea_9a64_5118a6b423c8row0_col6\" class=\"data row0 col6\" >Conclude</td>\n",
       "                        <td id=\"T_b438ec6e_6c91_11ea_9a64_5118a6b423c8row0_col7\" class=\"data row0 col7\" >Submit</td>\n",
       "                        <td id=\"T_b438ec6e_6c91_11ea_9a64_5118a6b423c8row0_col8\" class=\"data row0 col8\" >Review</td>\n",
       "                        <td id=\"T_b438ec6e_6c91_11ea_9a64_5118a6b423c8row0_col9\" class=\"data row0 col9\" >Minor Revision</td>\n",
       "                        <td id=\"T_b438ec6e_6c91_11ea_9a64_5118a6b423c8row0_col10\" class=\"data row0 col10\" >Revise</td>\n",
       "                        <td id=\"T_b438ec6e_6c91_11ea_9a64_5118a6b423c8row0_col11\" class=\"data row0 col11\" >Submit</td>\n",
       "                        <td id=\"T_b438ec6e_6c91_11ea_9a64_5118a6b423c8row0_col12\" class=\"data row0 col12\" >Final Decision</td>\n",
       "                        <td id=\"T_b438ec6e_6c91_11ea_9a64_5118a6b423c8row0_col13\" class=\"data row0 col13\" >■</td>\n",
       "            </tr>\n",
       "            <tr>\n",
       "                                <td id=\"T_b438ec6e_6c91_11ea_9a64_5118a6b423c8row1_col0\" class=\"data row1 col0\" >▶</td>\n",
       "                        <td id=\"T_b438ec6e_6c91_11ea_9a64_5118a6b423c8row1_col1\" class=\"data row1 col1\" >Identify Problem</td>\n",
       "                        <td id=\"T_b438ec6e_6c91_11ea_9a64_5118a6b423c8row1_col2\" class=\"data row1 col2\" >Research Related Work</td>\n",
       "                        <td id=\"T_b438ec6e_6c91_11ea_9a64_5118a6b423c8row1_col3\" class=\"data row1 col3\" >Develop Method</td>\n",
       "                        <td id=\"T_b438ec6e_6c91_11ea_9a64_5118a6b423c8row1_col4\" class=\"data row1 col4\" >Experiment</td>\n",
       "                        <td id=\"T_b438ec6e_6c91_11ea_9a64_5118a6b423c8row1_col5\" class=\"data row1 col5\" >Evaluate</td>\n",
       "                        <td id=\"T_b438ec6e_6c91_11ea_9a64_5118a6b423c8row1_col6\" class=\"data row1 col6\" >Conclude</td>\n",
       "                        <td id=\"T_b438ec6e_6c91_11ea_9a64_5118a6b423c8row1_col7\" class=\"data row1 col7\" >Submit</td>\n",
       "                        <td id=\"T_b438ec6e_6c91_11ea_9a64_5118a6b423c8row1_col8\" class=\"data row1 col8\" >Review</td>\n",
       "                        <td id=\"T_b438ec6e_6c91_11ea_9a64_5118a6b423c8row1_col9\" class=\"data row1 col9\" >Minor Revision</td>\n",
       "                        <td id=\"T_b438ec6e_6c91_11ea_9a64_5118a6b423c8row1_col10\" class=\"data row1 col10\" >Revise</td>\n",
       "                        <td id=\"T_b438ec6e_6c91_11ea_9a64_5118a6b423c8row1_col11\" class=\"data row1 col11\" >Submit</td>\n",
       "                        <td id=\"T_b438ec6e_6c91_11ea_9a64_5118a6b423c8row1_col12\" class=\"data row1 col12\" >Final Decision</td>\n",
       "                        <td id=\"T_b438ec6e_6c91_11ea_9a64_5118a6b423c8row1_col13\" class=\"data row1 col13\" >■</td>\n",
       "            </tr>\n",
       "    </tbody></table>"
      ],
      "text/plain": [
       "<pandas.io.formats.style.Styler at 0x7fa09bcf3a90>"
      ]
     },
     "metadata": {},
     "output_type": "display_data"
    },
    {
     "name": "stdout",
     "output_type": "stream",
     "text": [
      "Late\n"
     ]
    },
    {
     "data": {
      "text/html": [
       "<style  type=\"text/css\" >\n",
       "</style><table id=\"T_b43978dc_6c91_11ea_9a64_5118a6b423c8\" ><thead>    <tr>        <th class=\"col_heading level0 col0\" >0</th>        <th class=\"col_heading level0 col1\" >1</th>        <th class=\"col_heading level0 col2\" >2</th>        <th class=\"col_heading level0 col3\" >3</th>        <th class=\"col_heading level0 col4\" >4</th>        <th class=\"col_heading level0 col5\" >5</th>        <th class=\"col_heading level0 col6\" >6</th>        <th class=\"col_heading level0 col7\" >7</th>        <th class=\"col_heading level0 col8\" >8</th>        <th class=\"col_heading level0 col9\" >9</th>        <th class=\"col_heading level0 col10\" >10</th>        <th class=\"col_heading level0 col11\" >11</th>        <th class=\"col_heading level0 col12\" >12</th>        <th class=\"col_heading level0 col13\" >13</th>        <th class=\"col_heading level0 col14\" >14</th>    </tr></thead><tbody>\n",
       "                <tr>\n",
       "                                <td id=\"T_b43978dc_6c91_11ea_9a64_5118a6b423c8row0_col0\" class=\"data row0 col0\" >▶</td>\n",
       "                        <td id=\"T_b43978dc_6c91_11ea_9a64_5118a6b423c8row0_col1\" class=\"data row0 col1\" >Identify Problem</td>\n",
       "                        <td id=\"T_b43978dc_6c91_11ea_9a64_5118a6b423c8row0_col2\" class=\"data row0 col2\" >Experiment</td>\n",
       "                        <td id=\"T_b43978dc_6c91_11ea_9a64_5118a6b423c8row0_col3\" class=\"data row0 col3\" >Research Related Work</td>\n",
       "                        <td id=\"T_b43978dc_6c91_11ea_9a64_5118a6b423c8row0_col4\" class=\"data row0 col4\" >Develop Method</td>\n",
       "                        <td id=\"T_b43978dc_6c91_11ea_9a64_5118a6b423c8row0_col5\" class=\"data row0 col5\" >»</td>\n",
       "                        <td id=\"T_b43978dc_6c91_11ea_9a64_5118a6b423c8row0_col6\" class=\"data row0 col6\" >Evaluate</td>\n",
       "                        <td id=\"T_b43978dc_6c91_11ea_9a64_5118a6b423c8row0_col7\" class=\"data row0 col7\" >Conclude</td>\n",
       "                        <td id=\"T_b43978dc_6c91_11ea_9a64_5118a6b423c8row0_col8\" class=\"data row0 col8\" >Submit</td>\n",
       "                        <td id=\"T_b43978dc_6c91_11ea_9a64_5118a6b423c8row0_col9\" class=\"data row0 col9\" >Review</td>\n",
       "                        <td id=\"T_b43978dc_6c91_11ea_9a64_5118a6b423c8row0_col10\" class=\"data row0 col10\" >Minor Revision</td>\n",
       "                        <td id=\"T_b43978dc_6c91_11ea_9a64_5118a6b423c8row0_col11\" class=\"data row0 col11\" >Revise</td>\n",
       "                        <td id=\"T_b43978dc_6c91_11ea_9a64_5118a6b423c8row0_col12\" class=\"data row0 col12\" >Submit</td>\n",
       "                        <td id=\"T_b43978dc_6c91_11ea_9a64_5118a6b423c8row0_col13\" class=\"data row0 col13\" >Final Decision</td>\n",
       "                        <td id=\"T_b43978dc_6c91_11ea_9a64_5118a6b423c8row0_col14\" class=\"data row0 col14\" >■</td>\n",
       "            </tr>\n",
       "            <tr>\n",
       "                                <td id=\"T_b43978dc_6c91_11ea_9a64_5118a6b423c8row1_col0\" class=\"data row1 col0\" >▶</td>\n",
       "                        <td id=\"T_b43978dc_6c91_11ea_9a64_5118a6b423c8row1_col1\" class=\"data row1 col1\" >Identify Problem</td>\n",
       "                        <td id=\"T_b43978dc_6c91_11ea_9a64_5118a6b423c8row1_col2\" class=\"data row1 col2\" >»</td>\n",
       "                        <td id=\"T_b43978dc_6c91_11ea_9a64_5118a6b423c8row1_col3\" class=\"data row1 col3\" >Research Related Work</td>\n",
       "                        <td id=\"T_b43978dc_6c91_11ea_9a64_5118a6b423c8row1_col4\" class=\"data row1 col4\" >Develop Method</td>\n",
       "                        <td id=\"T_b43978dc_6c91_11ea_9a64_5118a6b423c8row1_col5\" class=\"data row1 col5\" >Experiment</td>\n",
       "                        <td id=\"T_b43978dc_6c91_11ea_9a64_5118a6b423c8row1_col6\" class=\"data row1 col6\" >Evaluate</td>\n",
       "                        <td id=\"T_b43978dc_6c91_11ea_9a64_5118a6b423c8row1_col7\" class=\"data row1 col7\" >Conclude</td>\n",
       "                        <td id=\"T_b43978dc_6c91_11ea_9a64_5118a6b423c8row1_col8\" class=\"data row1 col8\" >Submit</td>\n",
       "                        <td id=\"T_b43978dc_6c91_11ea_9a64_5118a6b423c8row1_col9\" class=\"data row1 col9\" >Review</td>\n",
       "                        <td id=\"T_b43978dc_6c91_11ea_9a64_5118a6b423c8row1_col10\" class=\"data row1 col10\" >Minor Revision</td>\n",
       "                        <td id=\"T_b43978dc_6c91_11ea_9a64_5118a6b423c8row1_col11\" class=\"data row1 col11\" >Revise</td>\n",
       "                        <td id=\"T_b43978dc_6c91_11ea_9a64_5118a6b423c8row1_col12\" class=\"data row1 col12\" >Submit</td>\n",
       "                        <td id=\"T_b43978dc_6c91_11ea_9a64_5118a6b423c8row1_col13\" class=\"data row1 col13\" >Final Decision</td>\n",
       "                        <td id=\"T_b43978dc_6c91_11ea_9a64_5118a6b423c8row1_col14\" class=\"data row1 col14\" >■</td>\n",
       "            </tr>\n",
       "    </tbody></table>"
      ],
      "text/plain": [
       "<pandas.io.formats.style.Styler at 0x7fa09bce49e8>"
      ]
     },
     "metadata": {},
     "output_type": "display_data"
    },
    {
     "name": "stdout",
     "output_type": "stream",
     "text": [
      "Attribute\n"
     ]
    },
    {
     "data": {
      "text/html": [
       "<style  type=\"text/css\" >\n",
       "</style><table id=\"T_b43a0a18_6c91_11ea_9a64_5118a6b423c8\" ><thead>    <tr>        <th class=\"col_heading level0 col0\" >0</th>        <th class=\"col_heading level0 col1\" >1</th>        <th class=\"col_heading level0 col2\" >2</th>        <th class=\"col_heading level0 col3\" >3</th>        <th class=\"col_heading level0 col4\" >4</th>        <th class=\"col_heading level0 col5\" >5</th>        <th class=\"col_heading level0 col6\" >6</th>        <th class=\"col_heading level0 col7\" >7</th>        <th class=\"col_heading level0 col8\" >8</th>        <th class=\"col_heading level0 col9\" >9</th>        <th class=\"col_heading level0 col10\" >10</th>        <th class=\"col_heading level0 col11\" >11</th>        <th class=\"col_heading level0 col12\" >12</th>        <th class=\"col_heading level0 col13\" >13</th>    </tr></thead><tbody>\n",
       "                <tr>\n",
       "                                <td id=\"T_b43a0a18_6c91_11ea_9a64_5118a6b423c8row0_col0\" class=\"data row0 col0\" >▶</td>\n",
       "                        <td id=\"T_b43a0a18_6c91_11ea_9a64_5118a6b423c8row0_col1\" class=\"data row0 col1\" >Identify Problem</td>\n",
       "                        <td id=\"T_b43a0a18_6c91_11ea_9a64_5118a6b423c8row0_col2\" class=\"data row0 col2\" >Research Related Work</td>\n",
       "                        <td id=\"T_b43a0a18_6c91_11ea_9a64_5118a6b423c8row0_col3\" class=\"data row0 col3\" >Develop Method</td>\n",
       "                        <td id=\"T_b43a0a18_6c91_11ea_9a64_5118a6b423c8row0_col4\" class=\"data row0 col4\" >Experiment</td>\n",
       "                        <td id=\"T_b43a0a18_6c91_11ea_9a64_5118a6b423c8row0_col5\" class=\"data row0 col5\" >Evaluate</td>\n",
       "                        <td id=\"T_b43a0a18_6c91_11ea_9a64_5118a6b423c8row0_col6\" class=\"data row0 col6\" >Conclude</td>\n",
       "                        <td id=\"T_b43a0a18_6c91_11ea_9a64_5118a6b423c8row0_col7\" class=\"data row0 col7\" >Submit</td>\n",
       "                        <td id=\"T_b43a0a18_6c91_11ea_9a64_5118a6b423c8row0_col8\" class=\"data row0 col8\" >Review</td>\n",
       "                        <td id=\"T_b43a0a18_6c91_11ea_9a64_5118a6b423c8row0_col9\" class=\"data row0 col9\" >Minor Revision</td>\n",
       "                        <td id=\"T_b43a0a18_6c91_11ea_9a64_5118a6b423c8row0_col10\" class=\"data row0 col10\" >Revise</td>\n",
       "                        <td id=\"T_b43a0a18_6c91_11ea_9a64_5118a6b423c8row0_col11\" class=\"data row0 col11\" >Submit</td>\n",
       "                        <td id=\"T_b43a0a18_6c91_11ea_9a64_5118a6b423c8row0_col12\" class=\"data row0 col12\" >Final Decision</td>\n",
       "                        <td id=\"T_b43a0a18_6c91_11ea_9a64_5118a6b423c8row0_col13\" class=\"data row0 col13\" >■</td>\n",
       "            </tr>\n",
       "            <tr>\n",
       "                                <td id=\"T_b43a0a18_6c91_11ea_9a64_5118a6b423c8row1_col0\" class=\"data row1 col0\" >▶</td>\n",
       "                        <td id=\"T_b43a0a18_6c91_11ea_9a64_5118a6b423c8row1_col1\" class=\"data row1 col1\" >Identify Problem</td>\n",
       "                        <td id=\"T_b43a0a18_6c91_11ea_9a64_5118a6b423c8row1_col2\" class=\"data row1 col2\" >Research Related Work</td>\n",
       "                        <td id=\"T_b43a0a18_6c91_11ea_9a64_5118a6b423c8row1_col3\" class=\"data row1 col3\" >Develop Method</td>\n",
       "                        <td id=\"T_b43a0a18_6c91_11ea_9a64_5118a6b423c8row1_col4\" class=\"data row1 col4\" >Experiment</td>\n",
       "                        <td id=\"T_b43a0a18_6c91_11ea_9a64_5118a6b423c8row1_col5\" class=\"data row1 col5\" >Evaluate</td>\n",
       "                        <td id=\"T_b43a0a18_6c91_11ea_9a64_5118a6b423c8row1_col6\" class=\"data row1 col6\" >Conclude</td>\n",
       "                        <td id=\"T_b43a0a18_6c91_11ea_9a64_5118a6b423c8row1_col7\" class=\"data row1 col7\" >Submit</td>\n",
       "                        <td id=\"T_b43a0a18_6c91_11ea_9a64_5118a6b423c8row1_col8\" class=\"data row1 col8\" >Review</td>\n",
       "                        <td id=\"T_b43a0a18_6c91_11ea_9a64_5118a6b423c8row1_col9\" class=\"data row1 col9\" >Minor Revision</td>\n",
       "                        <td id=\"T_b43a0a18_6c91_11ea_9a64_5118a6b423c8row1_col10\" class=\"data row1 col10\" >Revise</td>\n",
       "                        <td id=\"T_b43a0a18_6c91_11ea_9a64_5118a6b423c8row1_col11\" class=\"data row1 col11\" >Submit</td>\n",
       "                        <td id=\"T_b43a0a18_6c91_11ea_9a64_5118a6b423c8row1_col12\" class=\"data row1 col12\" >Final Decision</td>\n",
       "                        <td id=\"T_b43a0a18_6c91_11ea_9a64_5118a6b423c8row1_col13\" class=\"data row1 col13\" >■</td>\n",
       "            </tr>\n",
       "    </tbody></table>"
      ],
      "text/plain": [
       "<pandas.io.formats.style.Styler at 0x7fa09bcf3c50>"
      ]
     },
     "metadata": {},
     "output_type": "display_data"
    },
    {
     "name": "stdout",
     "output_type": "stream",
     "text": [
      "Insert\n"
     ]
    },
    {
     "data": {
      "text/html": [
       "<style  type=\"text/css\" >\n",
       "</style><table id=\"T_b43a89d4_6c91_11ea_9a64_5118a6b423c8\" ><thead>    <tr>        <th class=\"col_heading level0 col0\" >0</th>        <th class=\"col_heading level0 col1\" >1</th>        <th class=\"col_heading level0 col2\" >2</th>        <th class=\"col_heading level0 col3\" >3</th>        <th class=\"col_heading level0 col4\" >4</th>        <th class=\"col_heading level0 col5\" >5</th>        <th class=\"col_heading level0 col6\" >6</th>        <th class=\"col_heading level0 col7\" >7</th>        <th class=\"col_heading level0 col8\" >8</th>        <th class=\"col_heading level0 col9\" >9</th>        <th class=\"col_heading level0 col10\" >10</th>        <th class=\"col_heading level0 col11\" >11</th>        <th class=\"col_heading level0 col12\" >12</th>        <th class=\"col_heading level0 col13\" >13</th>        <th class=\"col_heading level0 col14\" >14</th>        <th class=\"col_heading level0 col15\" >15</th>    </tr></thead><tbody>\n",
       "                <tr>\n",
       "                                <td id=\"T_b43a89d4_6c91_11ea_9a64_5118a6b423c8row0_col0\" class=\"data row0 col0\" >▶</td>\n",
       "                        <td id=\"T_b43a89d4_6c91_11ea_9a64_5118a6b423c8row0_col1\" class=\"data row0 col1\" >Identify Problem</td>\n",
       "                        <td id=\"T_b43a89d4_6c91_11ea_9a64_5118a6b423c8row0_col2\" class=\"data row0 col2\" >Research Related Work</td>\n",
       "                        <td id=\"T_b43a89d4_6c91_11ea_9a64_5118a6b423c8row0_col3\" class=\"data row0 col3\" >Random activity 10</td>\n",
       "                        <td id=\"T_b43a89d4_6c91_11ea_9a64_5118a6b423c8row0_col4\" class=\"data row0 col4\" >Develop Method</td>\n",
       "                        <td id=\"T_b43a89d4_6c91_11ea_9a64_5118a6b423c8row0_col5\" class=\"data row0 col5\" >Experiment</td>\n",
       "                        <td id=\"T_b43a89d4_6c91_11ea_9a64_5118a6b423c8row0_col6\" class=\"data row0 col6\" >Evaluate</td>\n",
       "                        <td id=\"T_b43a89d4_6c91_11ea_9a64_5118a6b423c8row0_col7\" class=\"data row0 col7\" >Conclude</td>\n",
       "                        <td id=\"T_b43a89d4_6c91_11ea_9a64_5118a6b423c8row0_col8\" class=\"data row0 col8\" >Random activity 12</td>\n",
       "                        <td id=\"T_b43a89d4_6c91_11ea_9a64_5118a6b423c8row0_col9\" class=\"data row0 col9\" >Submit</td>\n",
       "                        <td id=\"T_b43a89d4_6c91_11ea_9a64_5118a6b423c8row0_col10\" class=\"data row0 col10\" >Review</td>\n",
       "                        <td id=\"T_b43a89d4_6c91_11ea_9a64_5118a6b423c8row0_col11\" class=\"data row0 col11\" >Minor Revision</td>\n",
       "                        <td id=\"T_b43a89d4_6c91_11ea_9a64_5118a6b423c8row0_col12\" class=\"data row0 col12\" >Revise</td>\n",
       "                        <td id=\"T_b43a89d4_6c91_11ea_9a64_5118a6b423c8row0_col13\" class=\"data row0 col13\" >Submit</td>\n",
       "                        <td id=\"T_b43a89d4_6c91_11ea_9a64_5118a6b423c8row0_col14\" class=\"data row0 col14\" >Final Decision</td>\n",
       "                        <td id=\"T_b43a89d4_6c91_11ea_9a64_5118a6b423c8row0_col15\" class=\"data row0 col15\" >■</td>\n",
       "            </tr>\n",
       "            <tr>\n",
       "                                <td id=\"T_b43a89d4_6c91_11ea_9a64_5118a6b423c8row1_col0\" class=\"data row1 col0\" >▶</td>\n",
       "                        <td id=\"T_b43a89d4_6c91_11ea_9a64_5118a6b423c8row1_col1\" class=\"data row1 col1\" >Identify Problem</td>\n",
       "                        <td id=\"T_b43a89d4_6c91_11ea_9a64_5118a6b423c8row1_col2\" class=\"data row1 col2\" >Research Related Work</td>\n",
       "                        <td id=\"T_b43a89d4_6c91_11ea_9a64_5118a6b423c8row1_col3\" class=\"data row1 col3\" >»</td>\n",
       "                        <td id=\"T_b43a89d4_6c91_11ea_9a64_5118a6b423c8row1_col4\" class=\"data row1 col4\" >Develop Method</td>\n",
       "                        <td id=\"T_b43a89d4_6c91_11ea_9a64_5118a6b423c8row1_col5\" class=\"data row1 col5\" >Experiment</td>\n",
       "                        <td id=\"T_b43a89d4_6c91_11ea_9a64_5118a6b423c8row1_col6\" class=\"data row1 col6\" >Evaluate</td>\n",
       "                        <td id=\"T_b43a89d4_6c91_11ea_9a64_5118a6b423c8row1_col7\" class=\"data row1 col7\" >Conclude</td>\n",
       "                        <td id=\"T_b43a89d4_6c91_11ea_9a64_5118a6b423c8row1_col8\" class=\"data row1 col8\" >»</td>\n",
       "                        <td id=\"T_b43a89d4_6c91_11ea_9a64_5118a6b423c8row1_col9\" class=\"data row1 col9\" >Submit</td>\n",
       "                        <td id=\"T_b43a89d4_6c91_11ea_9a64_5118a6b423c8row1_col10\" class=\"data row1 col10\" >Review</td>\n",
       "                        <td id=\"T_b43a89d4_6c91_11ea_9a64_5118a6b423c8row1_col11\" class=\"data row1 col11\" >Minor Revision</td>\n",
       "                        <td id=\"T_b43a89d4_6c91_11ea_9a64_5118a6b423c8row1_col12\" class=\"data row1 col12\" >Revise</td>\n",
       "                        <td id=\"T_b43a89d4_6c91_11ea_9a64_5118a6b423c8row1_col13\" class=\"data row1 col13\" >Submit</td>\n",
       "                        <td id=\"T_b43a89d4_6c91_11ea_9a64_5118a6b423c8row1_col14\" class=\"data row1 col14\" >Final Decision</td>\n",
       "                        <td id=\"T_b43a89d4_6c91_11ea_9a64_5118a6b423c8row1_col15\" class=\"data row1 col15\" >■</td>\n",
       "            </tr>\n",
       "    </tbody></table>"
      ],
      "text/plain": [
       "<pandas.io.formats.style.Styler at 0x7fa0b542e588>"
      ]
     },
     "metadata": {},
     "output_type": "display_data"
    },
    {
     "name": "stdout",
     "output_type": "stream",
     "text": [
      "Rework\n"
     ]
    },
    {
     "data": {
      "text/html": [
       "<style  type=\"text/css\" >\n",
       "</style><table id=\"T_b43b175a_6c91_11ea_9a64_5118a6b423c8\" ><thead>    <tr>        <th class=\"col_heading level0 col0\" >0</th>        <th class=\"col_heading level0 col1\" >1</th>        <th class=\"col_heading level0 col2\" >2</th>        <th class=\"col_heading level0 col3\" >3</th>        <th class=\"col_heading level0 col4\" >4</th>        <th class=\"col_heading level0 col5\" >5</th>        <th class=\"col_heading level0 col6\" >6</th>        <th class=\"col_heading level0 col7\" >7</th>        <th class=\"col_heading level0 col8\" >8</th>        <th class=\"col_heading level0 col9\" >9</th>        <th class=\"col_heading level0 col10\" >10</th>        <th class=\"col_heading level0 col11\" >11</th>        <th class=\"col_heading level0 col12\" >12</th>        <th class=\"col_heading level0 col13\" >13</th>        <th class=\"col_heading level0 col14\" >14</th>        <th class=\"col_heading level0 col15\" >15</th>    </tr></thead><tbody>\n",
       "                <tr>\n",
       "                                <td id=\"T_b43b175a_6c91_11ea_9a64_5118a6b423c8row0_col0\" class=\"data row0 col0\" >▶</td>\n",
       "                        <td id=\"T_b43b175a_6c91_11ea_9a64_5118a6b423c8row0_col1\" class=\"data row0 col1\" >Identify Problem</td>\n",
       "                        <td id=\"T_b43b175a_6c91_11ea_9a64_5118a6b423c8row0_col2\" class=\"data row0 col2\" >Research Related Work</td>\n",
       "                        <td id=\"T_b43b175a_6c91_11ea_9a64_5118a6b423c8row0_col3\" class=\"data row0 col3\" >Develop Hypothesis</td>\n",
       "                        <td id=\"T_b43b175a_6c91_11ea_9a64_5118a6b423c8row0_col4\" class=\"data row0 col4\" >Experiment</td>\n",
       "                        <td id=\"T_b43b175a_6c91_11ea_9a64_5118a6b423c8row0_col5\" class=\"data row0 col5\" >Conduct Study</td>\n",
       "                        <td id=\"T_b43b175a_6c91_11ea_9a64_5118a6b423c8row0_col6\" class=\"data row0 col6\" >Conclude</td>\n",
       "                        <td id=\"T_b43b175a_6c91_11ea_9a64_5118a6b423c8row0_col7\" class=\"data row0 col7\" >Submit</td>\n",
       "                        <td id=\"T_b43b175a_6c91_11ea_9a64_5118a6b423c8row0_col8\" class=\"data row0 col8\" >Review</td>\n",
       "                        <td id=\"T_b43b175a_6c91_11ea_9a64_5118a6b423c8row0_col9\" class=\"data row0 col9\" >Minor Revision</td>\n",
       "                        <td id=\"T_b43b175a_6c91_11ea_9a64_5118a6b423c8row0_col10\" class=\"data row0 col10\" >Revise</td>\n",
       "                        <td id=\"T_b43b175a_6c91_11ea_9a64_5118a6b423c8row0_col11\" class=\"data row0 col11\" >Submit</td>\n",
       "                        <td id=\"T_b43b175a_6c91_11ea_9a64_5118a6b423c8row0_col12\" class=\"data row0 col12\" >Final Decision</td>\n",
       "                        <td id=\"T_b43b175a_6c91_11ea_9a64_5118a6b423c8row0_col13\" class=\"data row0 col13\" >Submit</td>\n",
       "                        <td id=\"T_b43b175a_6c91_11ea_9a64_5118a6b423c8row0_col14\" class=\"data row0 col14\" >Final Decision</td>\n",
       "                        <td id=\"T_b43b175a_6c91_11ea_9a64_5118a6b423c8row0_col15\" class=\"data row0 col15\" >■</td>\n",
       "            </tr>\n",
       "            <tr>\n",
       "                                <td id=\"T_b43b175a_6c91_11ea_9a64_5118a6b423c8row1_col0\" class=\"data row1 col0\" >▶</td>\n",
       "                        <td id=\"T_b43b175a_6c91_11ea_9a64_5118a6b423c8row1_col1\" class=\"data row1 col1\" >Identify Problem</td>\n",
       "                        <td id=\"T_b43b175a_6c91_11ea_9a64_5118a6b423c8row1_col2\" class=\"data row1 col2\" >Research Related Work</td>\n",
       "                        <td id=\"T_b43b175a_6c91_11ea_9a64_5118a6b423c8row1_col3\" class=\"data row1 col3\" >Develop Hypothesis</td>\n",
       "                        <td id=\"T_b43b175a_6c91_11ea_9a64_5118a6b423c8row1_col4\" class=\"data row1 col4\" >Experiment</td>\n",
       "                        <td id=\"T_b43b175a_6c91_11ea_9a64_5118a6b423c8row1_col5\" class=\"data row1 col5\" >Conduct Study</td>\n",
       "                        <td id=\"T_b43b175a_6c91_11ea_9a64_5118a6b423c8row1_col6\" class=\"data row1 col6\" >Conclude</td>\n",
       "                        <td id=\"T_b43b175a_6c91_11ea_9a64_5118a6b423c8row1_col7\" class=\"data row1 col7\" >Submit</td>\n",
       "                        <td id=\"T_b43b175a_6c91_11ea_9a64_5118a6b423c8row1_col8\" class=\"data row1 col8\" >Review</td>\n",
       "                        <td id=\"T_b43b175a_6c91_11ea_9a64_5118a6b423c8row1_col9\" class=\"data row1 col9\" >Minor Revision</td>\n",
       "                        <td id=\"T_b43b175a_6c91_11ea_9a64_5118a6b423c8row1_col10\" class=\"data row1 col10\" >Revise</td>\n",
       "                        <td id=\"T_b43b175a_6c91_11ea_9a64_5118a6b423c8row1_col11\" class=\"data row1 col11\" >»</td>\n",
       "                        <td id=\"T_b43b175a_6c91_11ea_9a64_5118a6b423c8row1_col12\" class=\"data row1 col12\" >»</td>\n",
       "                        <td id=\"T_b43b175a_6c91_11ea_9a64_5118a6b423c8row1_col13\" class=\"data row1 col13\" >Submit</td>\n",
       "                        <td id=\"T_b43b175a_6c91_11ea_9a64_5118a6b423c8row1_col14\" class=\"data row1 col14\" >Final Decision</td>\n",
       "                        <td id=\"T_b43b175a_6c91_11ea_9a64_5118a6b423c8row1_col15\" class=\"data row1 col15\" >■</td>\n",
       "            </tr>\n",
       "    </tbody></table>"
      ],
      "text/plain": [
       "<pandas.io.formats.style.Styler at 0x7fa0b4e570b8>"
      ]
     },
     "metadata": {},
     "output_type": "display_data"
    },
    {
     "name": "stdout",
     "output_type": "stream",
     "text": [
      "SkipSequence\n"
     ]
    },
    {
     "data": {
      "text/html": [
       "<style  type=\"text/css\" >\n",
       "</style><table id=\"T_b43ba67a_6c91_11ea_9a64_5118a6b423c8\" ><thead>    <tr>        <th class=\"col_heading level0 col0\" >0</th>        <th class=\"col_heading level0 col1\" >1</th>        <th class=\"col_heading level0 col2\" >2</th>        <th class=\"col_heading level0 col3\" >3</th>        <th class=\"col_heading level0 col4\" >4</th>        <th class=\"col_heading level0 col5\" >5</th>        <th class=\"col_heading level0 col6\" >6</th>        <th class=\"col_heading level0 col7\" >7</th>        <th class=\"col_heading level0 col8\" >8</th>        <th class=\"col_heading level0 col9\" >9</th>        <th class=\"col_heading level0 col10\" >10</th>        <th class=\"col_heading level0 col11\" >11</th>        <th class=\"col_heading level0 col12\" >12</th>        <th class=\"col_heading level0 col13\" >13</th>    </tr></thead><tbody>\n",
       "                <tr>\n",
       "                                <td id=\"T_b43ba67a_6c91_11ea_9a64_5118a6b423c8row0_col0\" class=\"data row0 col0\" >▶</td>\n",
       "                        <td id=\"T_b43ba67a_6c91_11ea_9a64_5118a6b423c8row0_col1\" class=\"data row0 col1\" >Identify Problem</td>\n",
       "                        <td id=\"T_b43ba67a_6c91_11ea_9a64_5118a6b423c8row0_col2\" class=\"data row0 col2\" >»</td>\n",
       "                        <td id=\"T_b43ba67a_6c91_11ea_9a64_5118a6b423c8row0_col3\" class=\"data row0 col3\" >»</td>\n",
       "                        <td id=\"T_b43ba67a_6c91_11ea_9a64_5118a6b423c8row0_col4\" class=\"data row0 col4\" >Experiment</td>\n",
       "                        <td id=\"T_b43ba67a_6c91_11ea_9a64_5118a6b423c8row0_col5\" class=\"data row0 col5\" >Evaluate</td>\n",
       "                        <td id=\"T_b43ba67a_6c91_11ea_9a64_5118a6b423c8row0_col6\" class=\"data row0 col6\" >Conclude</td>\n",
       "                        <td id=\"T_b43ba67a_6c91_11ea_9a64_5118a6b423c8row0_col7\" class=\"data row0 col7\" >Submit</td>\n",
       "                        <td id=\"T_b43ba67a_6c91_11ea_9a64_5118a6b423c8row0_col8\" class=\"data row0 col8\" >Review</td>\n",
       "                        <td id=\"T_b43ba67a_6c91_11ea_9a64_5118a6b423c8row0_col9\" class=\"data row0 col9\" >Minor Revision</td>\n",
       "                        <td id=\"T_b43ba67a_6c91_11ea_9a64_5118a6b423c8row0_col10\" class=\"data row0 col10\" >Revise</td>\n",
       "                        <td id=\"T_b43ba67a_6c91_11ea_9a64_5118a6b423c8row0_col11\" class=\"data row0 col11\" >Submit</td>\n",
       "                        <td id=\"T_b43ba67a_6c91_11ea_9a64_5118a6b423c8row0_col12\" class=\"data row0 col12\" >Final Decision</td>\n",
       "                        <td id=\"T_b43ba67a_6c91_11ea_9a64_5118a6b423c8row0_col13\" class=\"data row0 col13\" >■</td>\n",
       "            </tr>\n",
       "            <tr>\n",
       "                                <td id=\"T_b43ba67a_6c91_11ea_9a64_5118a6b423c8row1_col0\" class=\"data row1 col0\" >▶</td>\n",
       "                        <td id=\"T_b43ba67a_6c91_11ea_9a64_5118a6b423c8row1_col1\" class=\"data row1 col1\" >Identify Problem</td>\n",
       "                        <td id=\"T_b43ba67a_6c91_11ea_9a64_5118a6b423c8row1_col2\" class=\"data row1 col2\" >Research Related Work</td>\n",
       "                        <td id=\"T_b43ba67a_6c91_11ea_9a64_5118a6b423c8row1_col3\" class=\"data row1 col3\" >Develop Method</td>\n",
       "                        <td id=\"T_b43ba67a_6c91_11ea_9a64_5118a6b423c8row1_col4\" class=\"data row1 col4\" >Experiment</td>\n",
       "                        <td id=\"T_b43ba67a_6c91_11ea_9a64_5118a6b423c8row1_col5\" class=\"data row1 col5\" >Evaluate</td>\n",
       "                        <td id=\"T_b43ba67a_6c91_11ea_9a64_5118a6b423c8row1_col6\" class=\"data row1 col6\" >Conclude</td>\n",
       "                        <td id=\"T_b43ba67a_6c91_11ea_9a64_5118a6b423c8row1_col7\" class=\"data row1 col7\" >Submit</td>\n",
       "                        <td id=\"T_b43ba67a_6c91_11ea_9a64_5118a6b423c8row1_col8\" class=\"data row1 col8\" >Review</td>\n",
       "                        <td id=\"T_b43ba67a_6c91_11ea_9a64_5118a6b423c8row1_col9\" class=\"data row1 col9\" >Minor Revision</td>\n",
       "                        <td id=\"T_b43ba67a_6c91_11ea_9a64_5118a6b423c8row1_col10\" class=\"data row1 col10\" >Revise</td>\n",
       "                        <td id=\"T_b43ba67a_6c91_11ea_9a64_5118a6b423c8row1_col11\" class=\"data row1 col11\" >Submit</td>\n",
       "                        <td id=\"T_b43ba67a_6c91_11ea_9a64_5118a6b423c8row1_col12\" class=\"data row1 col12\" >Final Decision</td>\n",
       "                        <td id=\"T_b43ba67a_6c91_11ea_9a64_5118a6b423c8row1_col13\" class=\"data row1 col13\" >■</td>\n",
       "            </tr>\n",
       "    </tbody></table>"
      ],
      "text/plain": [
       "<pandas.io.formats.style.Styler at 0x7fa09bce4fd0>"
      ]
     },
     "metadata": {},
     "output_type": "display_data"
    }
   ],
   "source": [
    "for anomaly_type in set(dataset.text_labels):\n",
    "    index = np.where(dataset.text_labels == anomaly_type)[0][0] # Select the first one\n",
    "    print(anomaly_type)\n",
    "    display_alignment(ground_truth_alignments[index], decode=decode)"
   ]
  },
  {
   "cell_type": "markdown",
   "metadata": {},
   "source": [
    "By comparing the ground truth to the alignments from the algorithms, we can evaluate the accuracy. This will be shown in the next notebook."
   ]
  },
  {
   "cell_type": "markdown",
   "metadata": {},
   "source": [
    "## Alignments from Nothing with ConfNet (Examples from Sec. 5)"
   ]
  },
  {
   "cell_type": "markdown",
   "metadata": {},
   "source": [
    "As described in the paper, we can also compute alignments from an empty case using the DeepAlign algorithm. To demonstrate this let us load a ConfNet that uses only the case attributes."
   ]
  },
  {
   "cell_type": "code",
   "execution_count": 20,
   "metadata": {},
   "outputs": [],
   "source": [
    "confnet, dataset = get_model('confnet', dataset_name, True, False)"
   ]
  },
  {
   "cell_type": "markdown",
   "metadata": {},
   "source": [
    "In the dataset, we have two case attributes, `decision` and `topic`, based on which the resulting sequence will differ."
   ]
  },
  {
   "cell_type": "code",
   "execution_count": 21,
   "metadata": {},
   "outputs": [
    {
     "data": {
      "text/plain": [
       "array(['name', '[Case]_decision', '[Case]_topic'], dtype=object)"
      ]
     },
     "execution_count": 21,
     "metadata": {},
     "output_type": "execute_result"
    }
   ],
   "source": [
    "dataset.attribute_keys"
   ]
  },
  {
   "cell_type": "code",
   "execution_count": 22,
   "metadata": {},
   "outputs": [
    {
     "name": "stdout",
     "output_type": "stream",
     "text": [
      "['Accept', 'Borderline', 'Reject', 'Weak accept', 'Weak reject']\n",
      "['Engineering', 'Theory']\n"
     ]
    }
   ],
   "source": [
    "print(dataset.encoders['[Case]_decision'].classes_.tolist())\n",
    "print(dataset.encoders['[Case]_topic'].classes_.tolist())"
   ]
  },
  {
   "cell_type": "markdown",
   "metadata": {},
   "source": [
    "Let us create an emtpy case sequence using the start and end symbols and the encode functionality `transform` of the `dataset.encoders`. "
   ]
  },
  {
   "cell_type": "code",
   "execution_count": 23,
   "metadata": {},
   "outputs": [],
   "source": [
    "def get_empty_case(decision, topic):\n",
    "    return [\n",
    "        dataset.encoders['name'].transform(['▶', '■'])[None, :],  # We have to add one dimension here\n",
    "        dataset.encoders['[Case]_decision'].transform([decision]),\n",
    "        dataset.encoders['[Case]_topic'].transform([topic]),\n",
    "    ]"
   ]
  },
  {
   "cell_type": "markdown",
   "metadata": {},
   "source": [
    "Now, we can use this method to create empty sequences, while setting the case attributes as we wish."
   ]
  },
  {
   "cell_type": "code",
   "execution_count": 24,
   "metadata": {},
   "outputs": [
    {
     "data": {
      "text/plain": [
       "[array([[27, 26]]), array([0]), array([0])]"
      ]
     },
     "execution_count": 24,
     "metadata": {},
     "output_type": "execute_result"
    }
   ],
   "source": [
    "empty_case = get_empty_case('Accept', 'Engineering')\n",
    "empty_case"
   ]
  },
  {
   "cell_type": "markdown",
   "metadata": {},
   "source": [
    "Let us see what the DeepAlign algorithm does. We have to run it for some more steps to create enough events for a complete sequence."
   ]
  },
  {
   "cell_type": "code",
   "execution_count": 25,
   "metadata": {},
   "outputs": [
    {
     "name": "stdout",
     "output_type": "stream",
     "text": [
      "Step 1 → 3.2658004760742188s (5, 53) finished=0\n",
      "Step 2 ← 0.06090092658996582s (5, 53) finished=0\n",
      "Step 3 → 0.061464548110961914s (5, 53) finished=0\n",
      "Step 4 ← 0.060236215591430664s (5, 53) finished=0\n",
      "Step 5 → 0.05981302261352539s (5, 53) finished=0\n",
      "Step 6 ← 0.06018400192260742s (5, 53) finished=0\n",
      "Step 7 → 0.06013178825378418s (5, 53) finished=0\n",
      "Step 8 ← 0.060292959213256836s (5, 53) finished=0\n",
      "Step 9 → 0.0600590705871582s (5, 53) finished=0\n",
      "Step 10 ← 0.060143470764160156s (5, 53) finished=0\n",
      "Step 11 → 0.05980658531188965s (5, 53) finished=0\n",
      "Step 12 ← 0.05988907814025879s (5, 53) finished=0\n",
      "Step 13 → 0.06007075309753418s (5, 53) finished=0\n",
      "Step 14 ← 0.059142112731933594s (5, 53) finished=1\n",
      "Converged\n"
     ]
    }
   ],
   "source": [
    "alignments, corrected_cases, costs = confnet.align(empty_case, k=5, steps=50)"
   ]
  },
  {
   "cell_type": "code",
   "execution_count": 68,
   "metadata": {},
   "outputs": [
    {
     "data": {
      "text/html": [
       "<style  type=\"text/css\" >\n",
       "</style><table id=\"T_6de3a4a6_1490_11ea_8cd1_e31a59fc7da5\" ><thead>    <tr>        <th class=\"col_heading level0 col0\" >0</th>        <th class=\"col_heading level0 col1\" >1</th>        <th class=\"col_heading level0 col2\" >2</th>        <th class=\"col_heading level0 col3\" >3</th>        <th class=\"col_heading level0 col4\" >4</th>        <th class=\"col_heading level0 col5\" >5</th>        <th class=\"col_heading level0 col6\" >6</th>        <th class=\"col_heading level0 col7\" >7</th>        <th class=\"col_heading level0 col8\" >8</th>        <th class=\"col_heading level0 col9\" >9</th>        <th class=\"col_heading level0 col10\" >10</th>        <th class=\"col_heading level0 col11\" >11</th>        <th class=\"col_heading level0 col12\" >12</th>        <th class=\"col_heading level0 col13\" >13</th>    </tr></thead><tbody>\n",
       "                <tr>\n",
       "                                <td id=\"T_6de3a4a6_1490_11ea_8cd1_e31a59fc7da5row0_col0\" class=\"data row0 col0\" >▶</td>\n",
       "                        <td id=\"T_6de3a4a6_1490_11ea_8cd1_e31a59fc7da5row0_col1\" class=\"data row0 col1\" >»</td>\n",
       "                        <td id=\"T_6de3a4a6_1490_11ea_8cd1_e31a59fc7da5row0_col2\" class=\"data row0 col2\" >»</td>\n",
       "                        <td id=\"T_6de3a4a6_1490_11ea_8cd1_e31a59fc7da5row0_col3\" class=\"data row0 col3\" >»</td>\n",
       "                        <td id=\"T_6de3a4a6_1490_11ea_8cd1_e31a59fc7da5row0_col4\" class=\"data row0 col4\" >»</td>\n",
       "                        <td id=\"T_6de3a4a6_1490_11ea_8cd1_e31a59fc7da5row0_col5\" class=\"data row0 col5\" >»</td>\n",
       "                        <td id=\"T_6de3a4a6_1490_11ea_8cd1_e31a59fc7da5row0_col6\" class=\"data row0 col6\" >»</td>\n",
       "                        <td id=\"T_6de3a4a6_1490_11ea_8cd1_e31a59fc7da5row0_col7\" class=\"data row0 col7\" >»</td>\n",
       "                        <td id=\"T_6de3a4a6_1490_11ea_8cd1_e31a59fc7da5row0_col8\" class=\"data row0 col8\" >»</td>\n",
       "                        <td id=\"T_6de3a4a6_1490_11ea_8cd1_e31a59fc7da5row0_col9\" class=\"data row0 col9\" >»</td>\n",
       "                        <td id=\"T_6de3a4a6_1490_11ea_8cd1_e31a59fc7da5row0_col10\" class=\"data row0 col10\" >»</td>\n",
       "                        <td id=\"T_6de3a4a6_1490_11ea_8cd1_e31a59fc7da5row0_col11\" class=\"data row0 col11\" >»</td>\n",
       "                        <td id=\"T_6de3a4a6_1490_11ea_8cd1_e31a59fc7da5row0_col12\" class=\"data row0 col12\" >»</td>\n",
       "                        <td id=\"T_6de3a4a6_1490_11ea_8cd1_e31a59fc7da5row0_col13\" class=\"data row0 col13\" >■</td>\n",
       "            </tr>\n",
       "            <tr>\n",
       "                                <td id=\"T_6de3a4a6_1490_11ea_8cd1_e31a59fc7da5row1_col0\" class=\"data row1 col0\" >▶</td>\n",
       "                        <td id=\"T_6de3a4a6_1490_11ea_8cd1_e31a59fc7da5row1_col1\" class=\"data row1 col1\" >Identify Problem</td>\n",
       "                        <td id=\"T_6de3a4a6_1490_11ea_8cd1_e31a59fc7da5row1_col2\" class=\"data row1 col2\" >Research Related Work</td>\n",
       "                        <td id=\"T_6de3a4a6_1490_11ea_8cd1_e31a59fc7da5row1_col3\" class=\"data row1 col3\" >Develop Method</td>\n",
       "                        <td id=\"T_6de3a4a6_1490_11ea_8cd1_e31a59fc7da5row1_col4\" class=\"data row1 col4\" >Experiment</td>\n",
       "                        <td id=\"T_6de3a4a6_1490_11ea_8cd1_e31a59fc7da5row1_col5\" class=\"data row1 col5\" >Evaluate</td>\n",
       "                        <td id=\"T_6de3a4a6_1490_11ea_8cd1_e31a59fc7da5row1_col6\" class=\"data row1 col6\" >Conclude</td>\n",
       "                        <td id=\"T_6de3a4a6_1490_11ea_8cd1_e31a59fc7da5row1_col7\" class=\"data row1 col7\" >Submit</td>\n",
       "                        <td id=\"T_6de3a4a6_1490_11ea_8cd1_e31a59fc7da5row1_col8\" class=\"data row1 col8\" >Review</td>\n",
       "                        <td id=\"T_6de3a4a6_1490_11ea_8cd1_e31a59fc7da5row1_col9\" class=\"data row1 col9\" >Minor Revision</td>\n",
       "                        <td id=\"T_6de3a4a6_1490_11ea_8cd1_e31a59fc7da5row1_col10\" class=\"data row1 col10\" >Revise</td>\n",
       "                        <td id=\"T_6de3a4a6_1490_11ea_8cd1_e31a59fc7da5row1_col11\" class=\"data row1 col11\" >Submit</td>\n",
       "                        <td id=\"T_6de3a4a6_1490_11ea_8cd1_e31a59fc7da5row1_col12\" class=\"data row1 col12\" >Final Decision</td>\n",
       "                        <td id=\"T_6de3a4a6_1490_11ea_8cd1_e31a59fc7da5row1_col13\" class=\"data row1 col13\" >■</td>\n",
       "            </tr>\n",
       "    </tbody></table>"
      ],
      "text/plain": [
       "<pandas.io.formats.style.Styler at 0x7fd7a72f2f98>"
      ]
     },
     "metadata": {},
     "output_type": "display_data"
    }
   ],
   "source": [
    "display_alignment(alignments[0][0], decode=decode)"
   ]
  },
  {
   "cell_type": "markdown",
   "metadata": {},
   "source": [
    "Interestingly, DeepAlign creates the correct case given the two case attributes. *Minor Revision* only occurs for `decision == 'Accept'` and `decision == 'Weak accept'`. Similarly, *Develop Method* is related to `topic == 'Engineering'`.\n",
    "\n",
    "Let us see what happens if we change this around."
   ]
  },
  {
   "cell_type": "code",
   "execution_count": 27,
   "metadata": {},
   "outputs": [],
   "source": [
    "empty_case = get_empty_case('Accept', 'Theory')"
   ]
  },
  {
   "cell_type": "code",
   "execution_count": 28,
   "metadata": {},
   "outputs": [
    {
     "name": "stdout",
     "output_type": "stream",
     "text": [
      "Step 1 → 0.06078147888183594s (5, 53) finished=0\n",
      "Step 2 ← 0.06042075157165527s (5, 53) finished=0\n",
      "Step 3 → 0.2031574249267578s (5, 53) finished=0\n",
      "Step 4 ← 0.06001996994018555s (5, 53) finished=0\n",
      "Step 5 → 0.05976581573486328s (5, 53) finished=0\n",
      "Step 6 ← 0.05966496467590332s (5, 53) finished=0\n",
      "Step 7 → 0.06041312217712402s (5, 53) finished=0\n",
      "Step 8 ← 0.060509443283081055s (5, 53) finished=0\n",
      "Step 9 → 0.05970597267150879s (5, 53) finished=0\n",
      "Step 10 ← 0.06000518798828125s (5, 53) finished=0\n",
      "Step 11 → 0.06087923049926758s (5, 53) finished=0\n",
      "Step 12 ← 0.05998420715332031s (5, 53) finished=0\n",
      "Step 13 → 0.058971405029296875s (5, 53) finished=1\n",
      "Converged\n"
     ]
    }
   ],
   "source": [
    "alignments, corrected_cases, costs = confnet.align(empty_case, k=5, steps=50)"
   ]
  },
  {
   "cell_type": "code",
   "execution_count": 71,
   "metadata": {},
   "outputs": [
    {
     "data": {
      "text/html": [
       "<style  type=\"text/css\" >\n",
       "</style><table id=\"T_abe581a2_1490_11ea_8cd1_e31a59fc7da5\" ><thead>    <tr>        <th class=\"col_heading level0 col0\" >0</th>        <th class=\"col_heading level0 col1\" >1</th>        <th class=\"col_heading level0 col2\" >2</th>        <th class=\"col_heading level0 col3\" >3</th>        <th class=\"col_heading level0 col4\" >4</th>        <th class=\"col_heading level0 col5\" >5</th>        <th class=\"col_heading level0 col6\" >6</th>        <th class=\"col_heading level0 col7\" >7</th>        <th class=\"col_heading level0 col8\" >8</th>        <th class=\"col_heading level0 col9\" >9</th>        <th class=\"col_heading level0 col10\" >10</th>        <th class=\"col_heading level0 col11\" >11</th>        <th class=\"col_heading level0 col12\" >12</th>        <th class=\"col_heading level0 col13\" >13</th>    </tr></thead><tbody>\n",
       "                <tr>\n",
       "                                <td id=\"T_abe581a2_1490_11ea_8cd1_e31a59fc7da5row0_col0\" class=\"data row0 col0\" >▶</td>\n",
       "                        <td id=\"T_abe581a2_1490_11ea_8cd1_e31a59fc7da5row0_col1\" class=\"data row0 col1\" >»</td>\n",
       "                        <td id=\"T_abe581a2_1490_11ea_8cd1_e31a59fc7da5row0_col2\" class=\"data row0 col2\" >»</td>\n",
       "                        <td id=\"T_abe581a2_1490_11ea_8cd1_e31a59fc7da5row0_col3\" class=\"data row0 col3\" >»</td>\n",
       "                        <td id=\"T_abe581a2_1490_11ea_8cd1_e31a59fc7da5row0_col4\" class=\"data row0 col4\" >»</td>\n",
       "                        <td id=\"T_abe581a2_1490_11ea_8cd1_e31a59fc7da5row0_col5\" class=\"data row0 col5\" >»</td>\n",
       "                        <td id=\"T_abe581a2_1490_11ea_8cd1_e31a59fc7da5row0_col6\" class=\"data row0 col6\" >»</td>\n",
       "                        <td id=\"T_abe581a2_1490_11ea_8cd1_e31a59fc7da5row0_col7\" class=\"data row0 col7\" >»</td>\n",
       "                        <td id=\"T_abe581a2_1490_11ea_8cd1_e31a59fc7da5row0_col8\" class=\"data row0 col8\" >»</td>\n",
       "                        <td id=\"T_abe581a2_1490_11ea_8cd1_e31a59fc7da5row0_col9\" class=\"data row0 col9\" >»</td>\n",
       "                        <td id=\"T_abe581a2_1490_11ea_8cd1_e31a59fc7da5row0_col10\" class=\"data row0 col10\" >»</td>\n",
       "                        <td id=\"T_abe581a2_1490_11ea_8cd1_e31a59fc7da5row0_col11\" class=\"data row0 col11\" >»</td>\n",
       "                        <td id=\"T_abe581a2_1490_11ea_8cd1_e31a59fc7da5row0_col12\" class=\"data row0 col12\" >»</td>\n",
       "                        <td id=\"T_abe581a2_1490_11ea_8cd1_e31a59fc7da5row0_col13\" class=\"data row0 col13\" >■</td>\n",
       "            </tr>\n",
       "            <tr>\n",
       "                                <td id=\"T_abe581a2_1490_11ea_8cd1_e31a59fc7da5row1_col0\" class=\"data row1 col0\" >▶</td>\n",
       "                        <td id=\"T_abe581a2_1490_11ea_8cd1_e31a59fc7da5row1_col1\" class=\"data row1 col1\" >Identify Problem</td>\n",
       "                        <td id=\"T_abe581a2_1490_11ea_8cd1_e31a59fc7da5row1_col2\" class=\"data row1 col2\" >Research Related Work</td>\n",
       "                        <td id=\"T_abe581a2_1490_11ea_8cd1_e31a59fc7da5row1_col3\" class=\"data row1 col3\" >Develop Hypothesis</td>\n",
       "                        <td id=\"T_abe581a2_1490_11ea_8cd1_e31a59fc7da5row1_col4\" class=\"data row1 col4\" >Experiment</td>\n",
       "                        <td id=\"T_abe581a2_1490_11ea_8cd1_e31a59fc7da5row1_col5\" class=\"data row1 col5\" >Conduct Study</td>\n",
       "                        <td id=\"T_abe581a2_1490_11ea_8cd1_e31a59fc7da5row1_col6\" class=\"data row1 col6\" >Conclude</td>\n",
       "                        <td id=\"T_abe581a2_1490_11ea_8cd1_e31a59fc7da5row1_col7\" class=\"data row1 col7\" >Submit</td>\n",
       "                        <td id=\"T_abe581a2_1490_11ea_8cd1_e31a59fc7da5row1_col8\" class=\"data row1 col8\" >Review</td>\n",
       "                        <td id=\"T_abe581a2_1490_11ea_8cd1_e31a59fc7da5row1_col9\" class=\"data row1 col9\" >Minor Revision</td>\n",
       "                        <td id=\"T_abe581a2_1490_11ea_8cd1_e31a59fc7da5row1_col10\" class=\"data row1 col10\" >Revise</td>\n",
       "                        <td id=\"T_abe581a2_1490_11ea_8cd1_e31a59fc7da5row1_col11\" class=\"data row1 col11\" >Submit</td>\n",
       "                        <td id=\"T_abe581a2_1490_11ea_8cd1_e31a59fc7da5row1_col12\" class=\"data row1 col12\" >Final Decision</td>\n",
       "                        <td id=\"T_abe581a2_1490_11ea_8cd1_e31a59fc7da5row1_col13\" class=\"data row1 col13\" >■</td>\n",
       "            </tr>\n",
       "    </tbody></table>"
      ],
      "text/plain": [
       "<pandas.io.formats.style.Styler at 0x7fd7a6849860>"
      ]
     },
     "metadata": {},
     "output_type": "display_data"
    }
   ],
   "source": [
    "display_alignment(alignments[0][0], decode=decode)"
   ]
  },
  {
   "cell_type": "markdown",
   "metadata": {},
   "source": [
    "Now, it correctly generates the *Develop Hypothesis* activity."
   ]
  },
  {
   "cell_type": "markdown",
   "metadata": {},
   "source": [
    "What happens, if we change the `decision` to something else? Let us find out."
   ]
  },
  {
   "cell_type": "code",
   "execution_count": 30,
   "metadata": {},
   "outputs": [],
   "source": [
    "empty_case = get_empty_case('Weak reject', 'Theory')"
   ]
  },
  {
   "cell_type": "code",
   "execution_count": 31,
   "metadata": {},
   "outputs": [
    {
     "name": "stdout",
     "output_type": "stream",
     "text": [
      "Step 1 → 0.06032443046569824s (5, 53) finished=0\n",
      "Step 2 ← 0.060350656509399414s (5, 53) finished=0\n",
      "Step 3 → 0.05985522270202637s (5, 53) finished=0\n",
      "Step 4 ← 0.05911874771118164s (5, 53) finished=0\n",
      "Step 5 → 0.06026053428649902s (5, 53) finished=0\n",
      "Step 6 ← 0.06024932861328125s (5, 53) finished=0\n",
      "Step 7 → 0.059778451919555664s (5, 53) finished=0\n",
      "Step 8 ← 0.059566497802734375s (5, 53) finished=0\n",
      "Step 9 → 0.06102705001831055s (5, 53) finished=0\n",
      "Step 10 ← 0.06002545356750488s (5, 53) finished=1\n",
      "Converged\n"
     ]
    }
   ],
   "source": [
    "alignments, corrected_cases, costs = confnet.align(empty_case, k=5, steps=50)"
   ]
  },
  {
   "cell_type": "code",
   "execution_count": 32,
   "metadata": {},
   "outputs": [
    {
     "data": {
      "text/html": [
       "<style  type=\"text/css\" >\n",
       "</style><table id=\"T_cdaa8572_6c91_11ea_9a64_5118a6b423c8\" ><thead>    <tr>        <th class=\"col_heading level0 col0\" >0</th>        <th class=\"col_heading level0 col1\" >1</th>        <th class=\"col_heading level0 col2\" >2</th>        <th class=\"col_heading level0 col3\" >3</th>        <th class=\"col_heading level0 col4\" >4</th>        <th class=\"col_heading level0 col5\" >5</th>        <th class=\"col_heading level0 col6\" >6</th>        <th class=\"col_heading level0 col7\" >7</th>        <th class=\"col_heading level0 col8\" >8</th>        <th class=\"col_heading level0 col9\" >9</th>        <th class=\"col_heading level0 col10\" >10</th>    </tr></thead><tbody>\n",
       "                <tr>\n",
       "                                <td id=\"T_cdaa8572_6c91_11ea_9a64_5118a6b423c8row0_col0\" class=\"data row0 col0\" >▶</td>\n",
       "                        <td id=\"T_cdaa8572_6c91_11ea_9a64_5118a6b423c8row0_col1\" class=\"data row0 col1\" >»</td>\n",
       "                        <td id=\"T_cdaa8572_6c91_11ea_9a64_5118a6b423c8row0_col2\" class=\"data row0 col2\" >»</td>\n",
       "                        <td id=\"T_cdaa8572_6c91_11ea_9a64_5118a6b423c8row0_col3\" class=\"data row0 col3\" >»</td>\n",
       "                        <td id=\"T_cdaa8572_6c91_11ea_9a64_5118a6b423c8row0_col4\" class=\"data row0 col4\" >»</td>\n",
       "                        <td id=\"T_cdaa8572_6c91_11ea_9a64_5118a6b423c8row0_col5\" class=\"data row0 col5\" >»</td>\n",
       "                        <td id=\"T_cdaa8572_6c91_11ea_9a64_5118a6b423c8row0_col6\" class=\"data row0 col6\" >»</td>\n",
       "                        <td id=\"T_cdaa8572_6c91_11ea_9a64_5118a6b423c8row0_col7\" class=\"data row0 col7\" >»</td>\n",
       "                        <td id=\"T_cdaa8572_6c91_11ea_9a64_5118a6b423c8row0_col8\" class=\"data row0 col8\" >»</td>\n",
       "                        <td id=\"T_cdaa8572_6c91_11ea_9a64_5118a6b423c8row0_col9\" class=\"data row0 col9\" >»</td>\n",
       "                        <td id=\"T_cdaa8572_6c91_11ea_9a64_5118a6b423c8row0_col10\" class=\"data row0 col10\" >■</td>\n",
       "            </tr>\n",
       "            <tr>\n",
       "                                <td id=\"T_cdaa8572_6c91_11ea_9a64_5118a6b423c8row1_col0\" class=\"data row1 col0\" >▶</td>\n",
       "                        <td id=\"T_cdaa8572_6c91_11ea_9a64_5118a6b423c8row1_col1\" class=\"data row1 col1\" >Identify Problem</td>\n",
       "                        <td id=\"T_cdaa8572_6c91_11ea_9a64_5118a6b423c8row1_col2\" class=\"data row1 col2\" >Research Related Work</td>\n",
       "                        <td id=\"T_cdaa8572_6c91_11ea_9a64_5118a6b423c8row1_col3\" class=\"data row1 col3\" >Develop Hypothesis</td>\n",
       "                        <td id=\"T_cdaa8572_6c91_11ea_9a64_5118a6b423c8row1_col4\" class=\"data row1 col4\" >Experiment</td>\n",
       "                        <td id=\"T_cdaa8572_6c91_11ea_9a64_5118a6b423c8row1_col5\" class=\"data row1 col5\" >Conduct Study</td>\n",
       "                        <td id=\"T_cdaa8572_6c91_11ea_9a64_5118a6b423c8row1_col6\" class=\"data row1 col6\" >Conclude</td>\n",
       "                        <td id=\"T_cdaa8572_6c91_11ea_9a64_5118a6b423c8row1_col7\" class=\"data row1 col7\" >Submit</td>\n",
       "                        <td id=\"T_cdaa8572_6c91_11ea_9a64_5118a6b423c8row1_col8\" class=\"data row1 col8\" >Review</td>\n",
       "                        <td id=\"T_cdaa8572_6c91_11ea_9a64_5118a6b423c8row1_col9\" class=\"data row1 col9\" >Final Decision</td>\n",
       "                        <td id=\"T_cdaa8572_6c91_11ea_9a64_5118a6b423c8row1_col10\" class=\"data row1 col10\" >■</td>\n",
       "            </tr>\n",
       "    </tbody></table>"
      ],
      "text/plain": [
       "<pandas.io.formats.style.Styler at 0x7fa098ca99e8>"
      ]
     },
     "metadata": {},
     "output_type": "display_data"
    }
   ],
   "source": [
    "display_alignment(alignments[0][0], decode=decode)"
   ]
  },
  {
   "cell_type": "markdown",
   "metadata": {},
   "source": [
    "The *Minor Revision* is gone."
   ]
  }
 ],
 "metadata": {
  "kernelspec": {
   "display_name": "Python 3",
   "language": "python",
   "name": "python3"
  },
  "language_info": {
   "codemirror_mode": {
    "name": "ipython",
    "version": 3
   },
   "file_extension": ".py",
   "mimetype": "text/x-python",
   "name": "python",
   "nbconvert_exporter": "python",
   "pygments_lexer": "ipython3",
   "version": "3.6.9"
  }
 },
 "nbformat": 4,
 "nbformat_minor": 4
}
